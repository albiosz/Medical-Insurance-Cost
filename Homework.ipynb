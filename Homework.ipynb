{
 "cells": [
  {
   "cell_type": "markdown",
   "metadata": {},
   "source": [
    "# Albert Szulc, 141321"
   ]
  },
  {
   "cell_type": "markdown",
   "metadata": {},
   "source": [
    "# Zadanie domowe - analiza eksploracyjna + test statystyczny"
   ]
  },
  {
   "cell_type": "code",
   "execution_count": 166,
   "metadata": {},
   "outputs": [
    {
     "data": {
      "text/html": [
       "<table>\n",
       "<thead><tr><th scope=col>age</th><th scope=col>sex</th><th scope=col>bmi</th><th scope=col>children</th><th scope=col>smoker</th><th scope=col>region</th><th scope=col>charges</th></tr></thead>\n",
       "<tbody>\n",
       "\t<tr><td>19       </td><td>female   </td><td>27.900   </td><td>0        </td><td>yes      </td><td>southwest</td><td>16884.924</td></tr>\n",
       "\t<tr><td>18       </td><td>male     </td><td>33.770   </td><td>1        </td><td>no       </td><td>southeast</td><td> 1725.552</td></tr>\n",
       "\t<tr><td>28       </td><td>male     </td><td>33.000   </td><td>3        </td><td>no       </td><td>southeast</td><td> 4449.462</td></tr>\n",
       "\t<tr><td>33       </td><td>male     </td><td>22.705   </td><td>0        </td><td>no       </td><td>northwest</td><td>21984.471</td></tr>\n",
       "\t<tr><td>32       </td><td>male     </td><td>28.880   </td><td>0        </td><td>no       </td><td>northwest</td><td> 3866.855</td></tr>\n",
       "\t<tr><td>31       </td><td>female   </td><td>25.740   </td><td>0        </td><td>no       </td><td>southeast</td><td> 3756.622</td></tr>\n",
       "\t<tr><td>46       </td><td>female   </td><td>33.440   </td><td>1        </td><td>no       </td><td>southeast</td><td> 8240.590</td></tr>\n",
       "\t<tr><td>37       </td><td>female   </td><td>27.740   </td><td>3        </td><td>no       </td><td>northwest</td><td> 7281.506</td></tr>\n",
       "\t<tr><td>37       </td><td>male     </td><td>29.830   </td><td>2        </td><td>no       </td><td>northeast</td><td> 6406.411</td></tr>\n",
       "\t<tr><td>60       </td><td>female   </td><td>25.840   </td><td>0        </td><td>no       </td><td>northwest</td><td>28923.137</td></tr>\n",
       "\t<tr><td>25       </td><td>male     </td><td>26.220   </td><td>0        </td><td>no       </td><td>northeast</td><td> 2721.321</td></tr>\n",
       "\t<tr><td>62       </td><td>female   </td><td>26.290   </td><td>0        </td><td>yes      </td><td>southeast</td><td>27808.725</td></tr>\n",
       "\t<tr><td>23       </td><td>male     </td><td>34.400   </td><td>0        </td><td>no       </td><td>southwest</td><td> 1826.843</td></tr>\n",
       "\t<tr><td>56       </td><td>female   </td><td>39.820   </td><td>0        </td><td>no       </td><td>southeast</td><td>11090.718</td></tr>\n",
       "\t<tr><td>27       </td><td>male     </td><td>42.130   </td><td>0        </td><td>yes      </td><td>southeast</td><td>39611.758</td></tr>\n",
       "\t<tr><td>19       </td><td>male     </td><td>24.600   </td><td>1        </td><td>no       </td><td>southwest</td><td> 1837.237</td></tr>\n",
       "\t<tr><td>52       </td><td>female   </td><td>30.780   </td><td>1        </td><td>no       </td><td>northeast</td><td>10797.336</td></tr>\n",
       "\t<tr><td>23       </td><td>male     </td><td>23.845   </td><td>0        </td><td>no       </td><td>northeast</td><td> 2395.172</td></tr>\n",
       "\t<tr><td>56       </td><td>male     </td><td>40.300   </td><td>0        </td><td>no       </td><td>southwest</td><td>10602.385</td></tr>\n",
       "\t<tr><td>30       </td><td>male     </td><td>35.300   </td><td>0        </td><td>yes      </td><td>southwest</td><td>36837.467</td></tr>\n",
       "\t<tr><td>60       </td><td>female   </td><td>36.005   </td><td>0        </td><td>no       </td><td>northeast</td><td>13228.847</td></tr>\n",
       "\t<tr><td>30       </td><td>female   </td><td>32.400   </td><td>1        </td><td>no       </td><td>southwest</td><td> 4149.736</td></tr>\n",
       "\t<tr><td>18       </td><td>male     </td><td>34.100   </td><td>0        </td><td>no       </td><td>southeast</td><td> 1137.011</td></tr>\n",
       "\t<tr><td>34       </td><td>female   </td><td>31.920   </td><td>1        </td><td>yes      </td><td>northeast</td><td>37701.877</td></tr>\n",
       "\t<tr><td>37       </td><td>male     </td><td>28.025   </td><td>2        </td><td>no       </td><td>northwest</td><td> 6203.902</td></tr>\n",
       "\t<tr><td>59       </td><td>female   </td><td>27.720   </td><td>3        </td><td>no       </td><td>southeast</td><td>14001.134</td></tr>\n",
       "\t<tr><td>63       </td><td>female   </td><td>23.085   </td><td>0        </td><td>no       </td><td>northeast</td><td>14451.835</td></tr>\n",
       "\t<tr><td>55       </td><td>female   </td><td>32.775   </td><td>2        </td><td>no       </td><td>northwest</td><td>12268.632</td></tr>\n",
       "\t<tr><td>23       </td><td>male     </td><td>17.385   </td><td>1        </td><td>no       </td><td>northwest</td><td> 2775.192</td></tr>\n",
       "\t<tr><td>31       </td><td>male     </td><td>36.300   </td><td>2        </td><td>yes      </td><td>southwest</td><td>38711.000</td></tr>\n",
       "\t<tr><td>...</td><td>...</td><td>...</td><td>...</td><td>...</td><td>...</td><td>...</td></tr>\n",
       "\t<tr><td>25       </td><td>female   </td><td>30.200   </td><td>0        </td><td>yes      </td><td>southwest</td><td>33900.653</td></tr>\n",
       "\t<tr><td>41       </td><td>male     </td><td>32.200   </td><td>2        </td><td>no       </td><td>southwest</td><td> 6875.961</td></tr>\n",
       "\t<tr><td>42       </td><td>male     </td><td>26.315   </td><td>1        </td><td>no       </td><td>northwest</td><td> 6940.910</td></tr>\n",
       "\t<tr><td>33       </td><td>female   </td><td>26.695   </td><td>0        </td><td>no       </td><td>northwest</td><td> 4571.413</td></tr>\n",
       "\t<tr><td>34       </td><td>male     </td><td>42.900   </td><td>1        </td><td>no       </td><td>southwest</td><td> 4536.259</td></tr>\n",
       "\t<tr><td>19       </td><td>female   </td><td>34.700   </td><td>2        </td><td>yes      </td><td>southwest</td><td>36397.576</td></tr>\n",
       "\t<tr><td>30       </td><td>female   </td><td>23.655   </td><td>3        </td><td>yes      </td><td>northwest</td><td>18765.875</td></tr>\n",
       "\t<tr><td>18       </td><td>male     </td><td>28.310   </td><td>1        </td><td>no       </td><td>northeast</td><td>11272.331</td></tr>\n",
       "\t<tr><td>19       </td><td>female   </td><td>20.600   </td><td>0        </td><td>no       </td><td>southwest</td><td> 1731.677</td></tr>\n",
       "\t<tr><td>18       </td><td>male     </td><td>53.130   </td><td>0        </td><td>no       </td><td>southeast</td><td> 1163.463</td></tr>\n",
       "\t<tr><td>35       </td><td>male     </td><td>39.710   </td><td>4        </td><td>no       </td><td>northeast</td><td>19496.719</td></tr>\n",
       "\t<tr><td>39       </td><td>female   </td><td>26.315   </td><td>2        </td><td>no       </td><td>northwest</td><td> 7201.701</td></tr>\n",
       "\t<tr><td>31       </td><td>male     </td><td>31.065   </td><td>3        </td><td>no       </td><td>northwest</td><td> 5425.023</td></tr>\n",
       "\t<tr><td>62       </td><td>male     </td><td>26.695   </td><td>0        </td><td>yes      </td><td>northeast</td><td>28101.333</td></tr>\n",
       "\t<tr><td>62       </td><td>male     </td><td>38.830   </td><td>0        </td><td>no       </td><td>southeast</td><td>12981.346</td></tr>\n",
       "\t<tr><td>42       </td><td>female   </td><td>40.370   </td><td>2        </td><td>yes      </td><td>southeast</td><td>43896.376</td></tr>\n",
       "\t<tr><td>31       </td><td>male     </td><td>25.935   </td><td>1        </td><td>no       </td><td>northwest</td><td> 4239.893</td></tr>\n",
       "\t<tr><td>61       </td><td>male     </td><td>33.535   </td><td>0        </td><td>no       </td><td>northeast</td><td>13143.337</td></tr>\n",
       "\t<tr><td>42       </td><td>female   </td><td>32.870   </td><td>0        </td><td>no       </td><td>northeast</td><td> 7050.021</td></tr>\n",
       "\t<tr><td>51       </td><td>male     </td><td>30.030   </td><td>1        </td><td>no       </td><td>southeast</td><td> 9377.905</td></tr>\n",
       "\t<tr><td>23       </td><td>female   </td><td>24.225   </td><td>2        </td><td>no       </td><td>northeast</td><td>22395.744</td></tr>\n",
       "\t<tr><td>52       </td><td>male     </td><td>38.600   </td><td>2        </td><td>no       </td><td>southwest</td><td>10325.206</td></tr>\n",
       "\t<tr><td>57       </td><td>female   </td><td>25.740   </td><td>2        </td><td>no       </td><td>southeast</td><td>12629.166</td></tr>\n",
       "\t<tr><td>23       </td><td>female   </td><td>33.400   </td><td>0        </td><td>no       </td><td>southwest</td><td>10795.937</td></tr>\n",
       "\t<tr><td>52       </td><td>female   </td><td>44.700   </td><td>3        </td><td>no       </td><td>southwest</td><td>11411.685</td></tr>\n",
       "\t<tr><td>50       </td><td>male     </td><td>30.970   </td><td>3        </td><td>no       </td><td>northwest</td><td>10600.548</td></tr>\n",
       "\t<tr><td>18       </td><td>female   </td><td>31.920   </td><td>0        </td><td>no       </td><td>northeast</td><td> 2205.981</td></tr>\n",
       "\t<tr><td>18       </td><td>female   </td><td>36.850   </td><td>0        </td><td>no       </td><td>southeast</td><td> 1629.833</td></tr>\n",
       "\t<tr><td>21       </td><td>female   </td><td>25.800   </td><td>0        </td><td>no       </td><td>southwest</td><td> 2007.945</td></tr>\n",
       "\t<tr><td>61       </td><td>female   </td><td>29.070   </td><td>0        </td><td>yes      </td><td>northwest</td><td>29141.360</td></tr>\n",
       "</tbody>\n",
       "</table>\n"
      ],
      "text/latex": [
       "\\begin{tabular}{r|lllllll}\n",
       " age & sex & bmi & children & smoker & region & charges\\\\\n",
       "\\hline\n",
       "\t 19        & female    & 27.900    & 0         & yes       & southwest & 16884.924\\\\\n",
       "\t 18        & male      & 33.770    & 1         & no        & southeast &  1725.552\\\\\n",
       "\t 28        & male      & 33.000    & 3         & no        & southeast &  4449.462\\\\\n",
       "\t 33        & male      & 22.705    & 0         & no        & northwest & 21984.471\\\\\n",
       "\t 32        & male      & 28.880    & 0         & no        & northwest &  3866.855\\\\\n",
       "\t 31        & female    & 25.740    & 0         & no        & southeast &  3756.622\\\\\n",
       "\t 46        & female    & 33.440    & 1         & no        & southeast &  8240.590\\\\\n",
       "\t 37        & female    & 27.740    & 3         & no        & northwest &  7281.506\\\\\n",
       "\t 37        & male      & 29.830    & 2         & no        & northeast &  6406.411\\\\\n",
       "\t 60        & female    & 25.840    & 0         & no        & northwest & 28923.137\\\\\n",
       "\t 25        & male      & 26.220    & 0         & no        & northeast &  2721.321\\\\\n",
       "\t 62        & female    & 26.290    & 0         & yes       & southeast & 27808.725\\\\\n",
       "\t 23        & male      & 34.400    & 0         & no        & southwest &  1826.843\\\\\n",
       "\t 56        & female    & 39.820    & 0         & no        & southeast & 11090.718\\\\\n",
       "\t 27        & male      & 42.130    & 0         & yes       & southeast & 39611.758\\\\\n",
       "\t 19        & male      & 24.600    & 1         & no        & southwest &  1837.237\\\\\n",
       "\t 52        & female    & 30.780    & 1         & no        & northeast & 10797.336\\\\\n",
       "\t 23        & male      & 23.845    & 0         & no        & northeast &  2395.172\\\\\n",
       "\t 56        & male      & 40.300    & 0         & no        & southwest & 10602.385\\\\\n",
       "\t 30        & male      & 35.300    & 0         & yes       & southwest & 36837.467\\\\\n",
       "\t 60        & female    & 36.005    & 0         & no        & northeast & 13228.847\\\\\n",
       "\t 30        & female    & 32.400    & 1         & no        & southwest &  4149.736\\\\\n",
       "\t 18        & male      & 34.100    & 0         & no        & southeast &  1137.011\\\\\n",
       "\t 34        & female    & 31.920    & 1         & yes       & northeast & 37701.877\\\\\n",
       "\t 37        & male      & 28.025    & 2         & no        & northwest &  6203.902\\\\\n",
       "\t 59        & female    & 27.720    & 3         & no        & southeast & 14001.134\\\\\n",
       "\t 63        & female    & 23.085    & 0         & no        & northeast & 14451.835\\\\\n",
       "\t 55        & female    & 32.775    & 2         & no        & northwest & 12268.632\\\\\n",
       "\t 23        & male      & 17.385    & 1         & no        & northwest &  2775.192\\\\\n",
       "\t 31        & male      & 36.300    & 2         & yes       & southwest & 38711.000\\\\\n",
       "\t ... & ... & ... & ... & ... & ... & ...\\\\\n",
       "\t 25        & female    & 30.200    & 0         & yes       & southwest & 33900.653\\\\\n",
       "\t 41        & male      & 32.200    & 2         & no        & southwest &  6875.961\\\\\n",
       "\t 42        & male      & 26.315    & 1         & no        & northwest &  6940.910\\\\\n",
       "\t 33        & female    & 26.695    & 0         & no        & northwest &  4571.413\\\\\n",
       "\t 34        & male      & 42.900    & 1         & no        & southwest &  4536.259\\\\\n",
       "\t 19        & female    & 34.700    & 2         & yes       & southwest & 36397.576\\\\\n",
       "\t 30        & female    & 23.655    & 3         & yes       & northwest & 18765.875\\\\\n",
       "\t 18        & male      & 28.310    & 1         & no        & northeast & 11272.331\\\\\n",
       "\t 19        & female    & 20.600    & 0         & no        & southwest &  1731.677\\\\\n",
       "\t 18        & male      & 53.130    & 0         & no        & southeast &  1163.463\\\\\n",
       "\t 35        & male      & 39.710    & 4         & no        & northeast & 19496.719\\\\\n",
       "\t 39        & female    & 26.315    & 2         & no        & northwest &  7201.701\\\\\n",
       "\t 31        & male      & 31.065    & 3         & no        & northwest &  5425.023\\\\\n",
       "\t 62        & male      & 26.695    & 0         & yes       & northeast & 28101.333\\\\\n",
       "\t 62        & male      & 38.830    & 0         & no        & southeast & 12981.346\\\\\n",
       "\t 42        & female    & 40.370    & 2         & yes       & southeast & 43896.376\\\\\n",
       "\t 31        & male      & 25.935    & 1         & no        & northwest &  4239.893\\\\\n",
       "\t 61        & male      & 33.535    & 0         & no        & northeast & 13143.337\\\\\n",
       "\t 42        & female    & 32.870    & 0         & no        & northeast &  7050.021\\\\\n",
       "\t 51        & male      & 30.030    & 1         & no        & southeast &  9377.905\\\\\n",
       "\t 23        & female    & 24.225    & 2         & no        & northeast & 22395.744\\\\\n",
       "\t 52        & male      & 38.600    & 2         & no        & southwest & 10325.206\\\\\n",
       "\t 57        & female    & 25.740    & 2         & no        & southeast & 12629.166\\\\\n",
       "\t 23        & female    & 33.400    & 0         & no        & southwest & 10795.937\\\\\n",
       "\t 52        & female    & 44.700    & 3         & no        & southwest & 11411.685\\\\\n",
       "\t 50        & male      & 30.970    & 3         & no        & northwest & 10600.548\\\\\n",
       "\t 18        & female    & 31.920    & 0         & no        & northeast &  2205.981\\\\\n",
       "\t 18        & female    & 36.850    & 0         & no        & southeast &  1629.833\\\\\n",
       "\t 21        & female    & 25.800    & 0         & no        & southwest &  2007.945\\\\\n",
       "\t 61        & female    & 29.070    & 0         & yes       & northwest & 29141.360\\\\\n",
       "\\end{tabular}\n"
      ],
      "text/markdown": [
       "\n",
       "| age | sex | bmi | children | smoker | region | charges |\n",
       "|---|---|---|---|---|---|---|\n",
       "| 19        | female    | 27.900    | 0         | yes       | southwest | 16884.924 |\n",
       "| 18        | male      | 33.770    | 1         | no        | southeast |  1725.552 |\n",
       "| 28        | male      | 33.000    | 3         | no        | southeast |  4449.462 |\n",
       "| 33        | male      | 22.705    | 0         | no        | northwest | 21984.471 |\n",
       "| 32        | male      | 28.880    | 0         | no        | northwest |  3866.855 |\n",
       "| 31        | female    | 25.740    | 0         | no        | southeast |  3756.622 |\n",
       "| 46        | female    | 33.440    | 1         | no        | southeast |  8240.590 |\n",
       "| 37        | female    | 27.740    | 3         | no        | northwest |  7281.506 |\n",
       "| 37        | male      | 29.830    | 2         | no        | northeast |  6406.411 |\n",
       "| 60        | female    | 25.840    | 0         | no        | northwest | 28923.137 |\n",
       "| 25        | male      | 26.220    | 0         | no        | northeast |  2721.321 |\n",
       "| 62        | female    | 26.290    | 0         | yes       | southeast | 27808.725 |\n",
       "| 23        | male      | 34.400    | 0         | no        | southwest |  1826.843 |\n",
       "| 56        | female    | 39.820    | 0         | no        | southeast | 11090.718 |\n",
       "| 27        | male      | 42.130    | 0         | yes       | southeast | 39611.758 |\n",
       "| 19        | male      | 24.600    | 1         | no        | southwest |  1837.237 |\n",
       "| 52        | female    | 30.780    | 1         | no        | northeast | 10797.336 |\n",
       "| 23        | male      | 23.845    | 0         | no        | northeast |  2395.172 |\n",
       "| 56        | male      | 40.300    | 0         | no        | southwest | 10602.385 |\n",
       "| 30        | male      | 35.300    | 0         | yes       | southwest | 36837.467 |\n",
       "| 60        | female    | 36.005    | 0         | no        | northeast | 13228.847 |\n",
       "| 30        | female    | 32.400    | 1         | no        | southwest |  4149.736 |\n",
       "| 18        | male      | 34.100    | 0         | no        | southeast |  1137.011 |\n",
       "| 34        | female    | 31.920    | 1         | yes       | northeast | 37701.877 |\n",
       "| 37        | male      | 28.025    | 2         | no        | northwest |  6203.902 |\n",
       "| 59        | female    | 27.720    | 3         | no        | southeast | 14001.134 |\n",
       "| 63        | female    | 23.085    | 0         | no        | northeast | 14451.835 |\n",
       "| 55        | female    | 32.775    | 2         | no        | northwest | 12268.632 |\n",
       "| 23        | male      | 17.385    | 1         | no        | northwest |  2775.192 |\n",
       "| 31        | male      | 36.300    | 2         | yes       | southwest | 38711.000 |\n",
       "| ... | ... | ... | ... | ... | ... | ... |\n",
       "| 25        | female    | 30.200    | 0         | yes       | southwest | 33900.653 |\n",
       "| 41        | male      | 32.200    | 2         | no        | southwest |  6875.961 |\n",
       "| 42        | male      | 26.315    | 1         | no        | northwest |  6940.910 |\n",
       "| 33        | female    | 26.695    | 0         | no        | northwest |  4571.413 |\n",
       "| 34        | male      | 42.900    | 1         | no        | southwest |  4536.259 |\n",
       "| 19        | female    | 34.700    | 2         | yes       | southwest | 36397.576 |\n",
       "| 30        | female    | 23.655    | 3         | yes       | northwest | 18765.875 |\n",
       "| 18        | male      | 28.310    | 1         | no        | northeast | 11272.331 |\n",
       "| 19        | female    | 20.600    | 0         | no        | southwest |  1731.677 |\n",
       "| 18        | male      | 53.130    | 0         | no        | southeast |  1163.463 |\n",
       "| 35        | male      | 39.710    | 4         | no        | northeast | 19496.719 |\n",
       "| 39        | female    | 26.315    | 2         | no        | northwest |  7201.701 |\n",
       "| 31        | male      | 31.065    | 3         | no        | northwest |  5425.023 |\n",
       "| 62        | male      | 26.695    | 0         | yes       | northeast | 28101.333 |\n",
       "| 62        | male      | 38.830    | 0         | no        | southeast | 12981.346 |\n",
       "| 42        | female    | 40.370    | 2         | yes       | southeast | 43896.376 |\n",
       "| 31        | male      | 25.935    | 1         | no        | northwest |  4239.893 |\n",
       "| 61        | male      | 33.535    | 0         | no        | northeast | 13143.337 |\n",
       "| 42        | female    | 32.870    | 0         | no        | northeast |  7050.021 |\n",
       "| 51        | male      | 30.030    | 1         | no        | southeast |  9377.905 |\n",
       "| 23        | female    | 24.225    | 2         | no        | northeast | 22395.744 |\n",
       "| 52        | male      | 38.600    | 2         | no        | southwest | 10325.206 |\n",
       "| 57        | female    | 25.740    | 2         | no        | southeast | 12629.166 |\n",
       "| 23        | female    | 33.400    | 0         | no        | southwest | 10795.937 |\n",
       "| 52        | female    | 44.700    | 3         | no        | southwest | 11411.685 |\n",
       "| 50        | male      | 30.970    | 3         | no        | northwest | 10600.548 |\n",
       "| 18        | female    | 31.920    | 0         | no        | northeast |  2205.981 |\n",
       "| 18        | female    | 36.850    | 0         | no        | southeast |  1629.833 |\n",
       "| 21        | female    | 25.800    | 0         | no        | southwest |  2007.945 |\n",
       "| 61        | female    | 29.070    | 0         | yes       | northwest | 29141.360 |\n",
       "\n"
      ],
      "text/plain": [
       "     age sex    bmi    children smoker region    charges  \n",
       "1    19  female 27.900 0        yes    southwest 16884.924\n",
       "2    18  male   33.770 1        no     southeast  1725.552\n",
       "3    28  male   33.000 3        no     southeast  4449.462\n",
       "4    33  male   22.705 0        no     northwest 21984.471\n",
       "5    32  male   28.880 0        no     northwest  3866.855\n",
       "6    31  female 25.740 0        no     southeast  3756.622\n",
       "7    46  female 33.440 1        no     southeast  8240.590\n",
       "8    37  female 27.740 3        no     northwest  7281.506\n",
       "9    37  male   29.830 2        no     northeast  6406.411\n",
       "10   60  female 25.840 0        no     northwest 28923.137\n",
       "11   25  male   26.220 0        no     northeast  2721.321\n",
       "12   62  female 26.290 0        yes    southeast 27808.725\n",
       "13   23  male   34.400 0        no     southwest  1826.843\n",
       "14   56  female 39.820 0        no     southeast 11090.718\n",
       "15   27  male   42.130 0        yes    southeast 39611.758\n",
       "16   19  male   24.600 1        no     southwest  1837.237\n",
       "17   52  female 30.780 1        no     northeast 10797.336\n",
       "18   23  male   23.845 0        no     northeast  2395.172\n",
       "19   56  male   40.300 0        no     southwest 10602.385\n",
       "20   30  male   35.300 0        yes    southwest 36837.467\n",
       "21   60  female 36.005 0        no     northeast 13228.847\n",
       "22   30  female 32.400 1        no     southwest  4149.736\n",
       "23   18  male   34.100 0        no     southeast  1137.011\n",
       "24   34  female 31.920 1        yes    northeast 37701.877\n",
       "25   37  male   28.025 2        no     northwest  6203.902\n",
       "26   59  female 27.720 3        no     southeast 14001.134\n",
       "27   63  female 23.085 0        no     northeast 14451.835\n",
       "28   55  female 32.775 2        no     northwest 12268.632\n",
       "29   23  male   17.385 1        no     northwest  2775.192\n",
       "30   31  male   36.300 2        yes    southwest 38711.000\n",
       "...  ... ...    ...    ...      ...    ...       ...      \n",
       "1309 25  female 30.200 0        yes    southwest 33900.653\n",
       "1310 41  male   32.200 2        no     southwest  6875.961\n",
       "1311 42  male   26.315 1        no     northwest  6940.910\n",
       "1312 33  female 26.695 0        no     northwest  4571.413\n",
       "1313 34  male   42.900 1        no     southwest  4536.259\n",
       "1314 19  female 34.700 2        yes    southwest 36397.576\n",
       "1315 30  female 23.655 3        yes    northwest 18765.875\n",
       "1316 18  male   28.310 1        no     northeast 11272.331\n",
       "1317 19  female 20.600 0        no     southwest  1731.677\n",
       "1318 18  male   53.130 0        no     southeast  1163.463\n",
       "1319 35  male   39.710 4        no     northeast 19496.719\n",
       "1320 39  female 26.315 2        no     northwest  7201.701\n",
       "1321 31  male   31.065 3        no     northwest  5425.023\n",
       "1322 62  male   26.695 0        yes    northeast 28101.333\n",
       "1323 62  male   38.830 0        no     southeast 12981.346\n",
       "1324 42  female 40.370 2        yes    southeast 43896.376\n",
       "1325 31  male   25.935 1        no     northwest  4239.893\n",
       "1326 61  male   33.535 0        no     northeast 13143.337\n",
       "1327 42  female 32.870 0        no     northeast  7050.021\n",
       "1328 51  male   30.030 1        no     southeast  9377.905\n",
       "1329 23  female 24.225 2        no     northeast 22395.744\n",
       "1330 52  male   38.600 2        no     southwest 10325.206\n",
       "1331 57  female 25.740 2        no     southeast 12629.166\n",
       "1332 23  female 33.400 0        no     southwest 10795.937\n",
       "1333 52  female 44.700 3        no     southwest 11411.685\n",
       "1334 50  male   30.970 3        no     northwest 10600.548\n",
       "1335 18  female 31.920 0        no     northeast  2205.981\n",
       "1336 18  female 36.850 0        no     southeast  1629.833\n",
       "1337 21  female 25.800 0        no     southwest  2007.945\n",
       "1338 61  female 29.070 0        yes    northwest 29141.360"
      ]
     },
     "metadata": {},
     "output_type": "display_data"
    }
   ],
   "source": [
    "Dane <- read.csv(\"insurance.csv\") # https://www.kaggle.com/mirichoi0218/insurance\n",
    "Dane"
   ]
  },
  {
   "cell_type": "markdown",
   "metadata": {},
   "source": [
    "# 1. Opis danych"
   ]
  },
  {
   "cell_type": "markdown",
   "metadata": {},
   "source": [
    "Dane składają się z losowo wybranej próby osób mających wykupione ubezpieczenie zdrowotne w USA. Kryją się w nich zależność różnych cech pacjenta jak wiek, płeć, BMI, ilość dzieci, czy osoba jest paląca, z jakiego regionu USA pochodzi (możliwe 4 wartości) do kosztu ubezpieczenia zdrowotnego. Próba jest dosyć duża, bo zawiera ponad 1300 rekordów z danymi. Wydaję się, że przy takiej liczności danych można ze sporą mocą formułować twierdzenia na ich podstawie."
   ]
  },
  {
   "cell_type": "markdown",
   "metadata": {},
   "source": [
    "# 2. Analiza eksploracyjna (ceny ubezpieczeń)"
   ]
  },
  {
   "cell_type": "code",
   "execution_count": 170,
   "metadata": {},
   "outputs": [
    {
     "name": "stderr",
     "output_type": "stream",
     "text": [
      "The following objects are masked from Dane (pos = 3):\n",
      "\n",
      "    age, bmi, charges, children, region, sex, smoker\n",
      "\n"
     ]
    }
   ],
   "source": [
    "attach(Dane)\n",
    "# detach(Dane)"
   ]
  },
  {
   "cell_type": "markdown",
   "metadata": {},
   "source": [
    "## Podstawowe statysyki opisowe dla wysokości opłaty"
   ]
  },
  {
   "cell_type": "markdown",
   "metadata": {},
   "source": [
    "### Liczność próby"
   ]
  },
  {
   "cell_type": "code",
   "execution_count": 167,
   "metadata": {},
   "outputs": [
    {
     "data": {
      "text/html": [
       "1338"
      ],
      "text/latex": [
       "1338"
      ],
      "text/markdown": [
       "1338"
      ],
      "text/plain": [
       "[1] 1338"
      ]
     },
     "metadata": {},
     "output_type": "display_data"
    }
   ],
   "source": [
    "n <- length(charges)\n",
    "n"
   ]
  },
  {
   "cell_type": "markdown",
   "metadata": {},
   "source": [
    "### Średnia"
   ]
  },
  {
   "cell_type": "code",
   "execution_count": 168,
   "metadata": {},
   "outputs": [
    {
     "data": {
      "text/html": [
       "13270.4222651413"
      ],
      "text/latex": [
       "13270.4222651413"
      ],
      "text/markdown": [
       "13270.4222651413"
      ],
      "text/plain": [
       "[1] 13270.42"
      ]
     },
     "metadata": {},
     "output_type": "display_data"
    }
   ],
   "source": [
    "avg <- mean(charges)\n",
    "avg"
   ]
  },
  {
   "cell_type": "markdown",
   "metadata": {},
   "source": [
    "### Mediana"
   ]
  },
  {
   "cell_type": "code",
   "execution_count": 169,
   "metadata": {},
   "outputs": [
    {
     "data": {
      "text/html": [
       "9382.033"
      ],
      "text/latex": [
       "9382.033"
      ],
      "text/markdown": [
       "9382.033"
      ],
      "text/plain": [
       "[1] 9382.033"
      ]
     },
     "metadata": {},
     "output_type": "display_data"
    }
   ],
   "source": [
    "med <- median(charges)\n",
    "med"
   ]
  },
  {
   "cell_type": "markdown",
   "metadata": {},
   "source": [
    "### Wartość minimalna"
   ]
  },
  {
   "cell_type": "code",
   "execution_count": 177,
   "metadata": {},
   "outputs": [
    {
     "data": {
      "text/html": [
       "1121.8739"
      ],
      "text/latex": [
       "1121.8739"
      ],
      "text/markdown": [
       "1121.8739"
      ],
      "text/plain": [
       "[1] 1121.874"
      ]
     },
     "metadata": {},
     "output_type": "display_data"
    }
   ],
   "source": [
    "min_value <- min(charges)\n",
    "min_value"
   ]
  },
  {
   "cell_type": "markdown",
   "metadata": {},
   "source": [
    "### Wartość maksymalna"
   ]
  },
  {
   "cell_type": "code",
   "execution_count": 178,
   "metadata": {},
   "outputs": [
    {
     "data": {
      "text/html": [
       "63770.42801"
      ],
      "text/latex": [
       "63770.42801"
      ],
      "text/markdown": [
       "63770.42801"
      ],
      "text/plain": [
       "[1] 63770.43"
      ]
     },
     "metadata": {},
     "output_type": "display_data"
    }
   ],
   "source": [
    "max_value <- max(charges)\n",
    "max_value"
   ]
  },
  {
   "cell_type": "markdown",
   "metadata": {},
   "source": [
    "### Wariancja"
   ]
  },
  {
   "cell_type": "code",
   "execution_count": 8,
   "metadata": {},
   "outputs": [
    {
     "data": {
      "text/html": [
       "146652372.152855"
      ],
      "text/latex": [
       "146652372.152855"
      ],
      "text/markdown": [
       "146652372.152855"
      ],
      "text/plain": [
       "[1] 146652372"
      ]
     },
     "metadata": {},
     "output_type": "display_data"
    }
   ],
   "source": [
    "vr <- var(charges)\n",
    "vr"
   ]
  },
  {
   "cell_type": "markdown",
   "metadata": {},
   "source": [
    "### Odchylenie standardowe"
   ]
  },
  {
   "cell_type": "code",
   "execution_count": 9,
   "metadata": {},
   "outputs": [
    {
     "data": {
      "text/html": [
       "12110.011236694"
      ],
      "text/latex": [
       "12110.011236694"
      ],
      "text/markdown": [
       "12110.011236694"
      ],
      "text/plain": [
       "[1] 12110.01"
      ]
     },
     "metadata": {},
     "output_type": "display_data"
    }
   ],
   "source": [
    "std <- sd(charges)\n",
    "std"
   ]
  },
  {
   "cell_type": "markdown",
   "metadata": {},
   "source": [
    "### Skośność"
   ]
  },
  {
   "cell_type": "code",
   "execution_count": 10,
   "metadata": {},
   "outputs": [
    {
     "data": {
      "text/html": [
       "1.51248251819953"
      ],
      "text/latex": [
       "1.51248251819953"
      ],
      "text/markdown": [
       "1.51248251819953"
      ],
      "text/plain": [
       "[1] 1.512483"
      ]
     },
     "metadata": {},
     "output_type": "display_data"
    }
   ],
   "source": [
    "skew <- sum((charges - avg)^3)/(n * std^3)\n",
    "skew"
   ]
  },
  {
   "cell_type": "markdown",
   "metadata": {},
   "source": [
    "### Kurtoza"
   ]
  },
  {
   "cell_type": "code",
   "execution_count": 172,
   "metadata": {},
   "outputs": [
    {
     "data": {
      "text/html": [
       "4.58895424296733"
      ],
      "text/latex": [
       "4.58895424296733"
      ],
      "text/markdown": [
       "4.58895424296733"
      ],
      "text/plain": [
       "[1] 4.588954"
      ]
     },
     "metadata": {},
     "output_type": "display_data"
    }
   ],
   "source": [
    "kurt <- sum((charges - avg)^4)/(n * vr^2)\n",
    "kurt"
   ]
  },
  {
   "cell_type": "markdown",
   "metadata": {},
   "source": [
    "Z podstawowych statystyk opisowych można wywnioskować kilka istotnych faktów:\n",
    "- mamy sporty rozstrzał danych patrząc po różnicy pomiędzy wartością maksymalną i minimalną\n",
    "- odchylenie standardowe bliskie wartości średniej arytmetycznej wksazuje na sporą zmienność danych\n",
    "- ze skośności można odczytać, że dane są pochylone \"dodatnio\" (asymetra prawostronna) natomiast wartość kurtozy mówi nam, że dane są dosyć mocno skupione"
   ]
  },
  {
   "cell_type": "markdown",
   "metadata": {},
   "source": [
    "## Szerg rozdzielczy"
   ]
  },
  {
   "cell_type": "code",
   "execution_count": 175,
   "metadata": {},
   "outputs": [
    {
     "data": {
      "text/html": [
       "<strong>75%:</strong> 11899.625365"
      ],
      "text/latex": [
       "\\textbf{75\\textbackslash{}\\%:} 11899.625365"
      ],
      "text/markdown": [
       "**75%:** 11899.625365"
      ],
      "text/plain": [
       "     75% \n",
       "11899.63 "
      ]
     },
     "metadata": {},
     "output_type": "display_data"
    }
   ],
   "source": [
    "quantile(charges, 3/4) - quantile(charges, 1/4)"
   ]
  },
  {
   "cell_type": "markdown",
   "metadata": {},
   "source": [
    "### Liczba przedziałów = $\\sqrt{n}$"
   ]
  },
  {
   "cell_type": "code",
   "execution_count": 198,
   "metadata": {},
   "outputs": [
    {
     "data": {
      "text/html": [
       "<span style=white-space:pre-wrap>'Wartosc minimalna:  1121.8739'</span>"
      ],
      "text/latex": [
       "'Wartosc minimalna:  1121.8739'"
      ],
      "text/markdown": [
       "<span style=white-space:pre-wrap>'Wartosc minimalna:  1121.8739'</span>"
      ],
      "text/plain": [
       "[1] \"Wartosc minimalna:  1121.8739\""
      ]
     },
     "metadata": {},
     "output_type": "display_data"
    },
    {
     "data": {
      "text/html": [
       "<span style=white-space:pre-wrap>'Wartosc minimalna przedzialu:  1121'</span>"
      ],
      "text/latex": [
       "'Wartosc minimalna przedzialu:  1121'"
      ],
      "text/markdown": [
       "<span style=white-space:pre-wrap>'Wartosc minimalna przedzialu:  1121'</span>"
      ],
      "text/plain": [
       "[1] \"Wartosc minimalna przedzialu:  1121\""
      ]
     },
     "metadata": {},
     "output_type": "display_data"
    },
    {
     "data": {
      "text/html": [
       "<span style=white-space:pre-wrap>'Wartosc maksymalna:  63770.42801'</span>"
      ],
      "text/latex": [
       "'Wartosc maksymalna:  63770.42801'"
      ],
      "text/markdown": [
       "<span style=white-space:pre-wrap>'Wartosc maksymalna:  63770.42801'</span>"
      ],
      "text/plain": [
       "[1] \"Wartosc maksymalna:  63770.42801\""
      ]
     },
     "metadata": {},
     "output_type": "display_data"
    },
    {
     "data": {
      "text/html": [
       "<span style=white-space:pre-wrap>'Wartosc maksymalna przedzialu:  63771'</span>"
      ],
      "text/latex": [
       "'Wartosc maksymalna przedzialu:  63771'"
      ],
      "text/markdown": [
       "<span style=white-space:pre-wrap>'Wartosc maksymalna przedzialu:  63771'</span>"
      ],
      "text/plain": [
       "[1] \"Wartosc maksymalna przedzialu:  63771\""
      ]
     },
     "metadata": {},
     "output_type": "display_data"
    },
    {
     "data": {
      "text/html": [
       "<span style=white-space:pre-wrap>'Liczba przedzialów:  37'</span>"
      ],
      "text/latex": [
       "'Liczba przedzialów:  37'"
      ],
      "text/markdown": [
       "<span style=white-space:pre-wrap>'Liczba przedzialów:  37'</span>"
      ],
      "text/plain": [
       "[1] \"Liczba przedzialów:  37\""
      ]
     },
     "metadata": {},
     "output_type": "display_data"
    },
    {
     "data": {
      "text/html": [
       "<span style=white-space:pre-wrap>'Szerokosc przedzialu:  1694'</span>"
      ],
      "text/latex": [
       "'Szerokosc przedzialu:  1694'"
      ],
      "text/markdown": [
       "<span style=white-space:pre-wrap>'Szerokosc przedzialu:  1694'</span>"
      ],
      "text/plain": [
       "[1] \"Szerokosc przedzialu:  1694\""
      ]
     },
     "metadata": {},
     "output_type": "display_data"
    }
   ],
   "source": [
    "num_of_breaks <- round(sqrt(n))\n",
    "width <- (max_value - min_value)/num_of_breaks\n",
    "width <- ceiling(width)\n",
    "paste(\"Wartość minimalna: \", min_value)\n",
    "paste(\"Wartość minimalna przedziału: \", floor(min_value))\n",
    "paste(\"Wartość maksymalna: \", max_value)\n",
    "paste(\"Wartość maksymalna przedziału: \", ceiling(max_value))\n",
    "paste(\"Liczba przedziałów: \", num_of_breaks)\n",
    "paste(\"Szerokość przedziału: \", width)"
   ]
  },
  {
   "cell_type": "code",
   "execution_count": 203,
   "metadata": {},
   "outputs": [
    {
     "data": {
      "text/html": [
       "'Skonstruowany szereg rozdzielczy: '"
      ],
      "text/latex": [
       "'Skonstruowany szereg rozdzielczy: '"
      ],
      "text/markdown": [
       "'Skonstruowany szereg rozdzielczy: '"
      ],
      "text/plain": [
       "[1] \"Skonstruowany szereg rozdzielczy: \""
      ]
     },
     "metadata": {},
     "output_type": "display_data"
    },
    {
     "name": "stdout",
     "output_type": "stream",
     "text": [
      "[1] \"( 1121 , 2815 ]\"\n",
      "[1] \"( 2815 , 4509 ]\"\n",
      "[1] \"( 4509 , 6203 ]\"\n",
      "[1] \"( 6203 , 7897 ]\"\n",
      "[1] \"( 7897 , 9591 ]\"\n",
      "[1] \"( 9591 , 11285 ]\"\n",
      "[1] \"( 11285 , 12979 ]\"\n",
      "[1] \"( 12979 , 14673 ]\"\n",
      "[1] \"( 14673 , 16367 ]\"\n",
      "[1] \"( 16367 , 18061 ]\"\n",
      "[1] \"( 18061 , 19755 ]\"\n",
      "[1] \"( 19755 , 21449 ]\"\n",
      "[1] \"( 21449 , 23143 ]\"\n",
      "[1] \"( 23143 , 24837 ]\"\n",
      "[1] \"( 24837 , 26531 ]\"\n",
      "[1] \"( 26531 , 28225 ]\"\n",
      "[1] \"( 28225 , 29919 ]\"\n",
      "[1] \"( 29919 , 31613 ]\"\n",
      "[1] \"( 31613 , 33307 ]\"\n",
      "[1] \"( 33307 , 35001 ]\"\n",
      "[1] \"( 35001 , 36695 ]\"\n",
      "[1] \"( 36695 , 38389 ]\"\n",
      "[1] \"( 38389 , 40083 ]\"\n",
      "[1] \"( 40083 , 41777 ]\"\n",
      "[1] \"( 41777 , 43471 ]\"\n",
      "[1] \"( 43471 , 45165 ]\"\n",
      "[1] \"( 45165 , 46859 ]\"\n",
      "[1] \"( 46859 , 48553 ]\"\n",
      "[1] \"( 48553 , 50247 ]\"\n",
      "[1] \"( 50247 , 51941 ]\"\n",
      "[1] \"( 51941 , 53635 ]\"\n",
      "[1] \"( 53635 , 55329 ]\"\n",
      "[1] \"( 55329 , 57023 ]\"\n",
      "[1] \"( 57023 , 58717 ]\"\n",
      "[1] \"( 58717 , 60411 ]\"\n",
      "[1] \"( 60411 , 62105 ]\"\n",
      "[1] \"( 62105 , 63799 ]\"\n"
     ]
    }
   ],
   "source": [
    "paste(\"Skonstruowany szereg rozdzielczy: \")\n",
    "cur <- floor(min_value)\n",
    "for (i in 1:num_of_breaks){\n",
    "    print(paste(\"(\",cur,\",\",cur+width,\"]\"))\n",
    "    cur <- cur + width\n",
    "}"
   ]
  },
  {
   "cell_type": "markdown",
   "metadata": {},
   "source": [
    "### Długość przedziału = $2.64 * IQR * N^{-1/3}$"
   ]
  },
  {
   "cell_type": "code",
   "execution_count": 206,
   "metadata": {},
   "outputs": [
    {
     "data": {
      "text/html": [
       "<span style=white-space:pre-wrap>'Wartosc minimalna:  1121.8739'</span>"
      ],
      "text/latex": [
       "'Wartosc minimalna:  1121.8739'"
      ],
      "text/markdown": [
       "<span style=white-space:pre-wrap>'Wartosc minimalna:  1121.8739'</span>"
      ],
      "text/plain": [
       "[1] \"Wartosc minimalna:  1121.8739\""
      ]
     },
     "metadata": {},
     "output_type": "display_data"
    },
    {
     "data": {
      "text/html": [
       "<span style=white-space:pre-wrap>'Wartosc minimalna przedzialu:  1121'</span>"
      ],
      "text/latex": [
       "'Wartosc minimalna przedzialu:  1121'"
      ],
      "text/markdown": [
       "<span style=white-space:pre-wrap>'Wartosc minimalna przedzialu:  1121'</span>"
      ],
      "text/plain": [
       "[1] \"Wartosc minimalna przedzialu:  1121\""
      ]
     },
     "metadata": {},
     "output_type": "display_data"
    },
    {
     "data": {
      "text/html": [
       "<span style=white-space:pre-wrap>'Wartosc maksymalna:  63770.42801'</span>"
      ],
      "text/latex": [
       "'Wartosc maksymalna:  63770.42801'"
      ],
      "text/markdown": [
       "<span style=white-space:pre-wrap>'Wartosc maksymalna:  63770.42801'</span>"
      ],
      "text/plain": [
       "[1] \"Wartosc maksymalna:  63770.42801\""
      ]
     },
     "metadata": {},
     "output_type": "display_data"
    },
    {
     "data": {
      "text/html": [
       "<span style=white-space:pre-wrap>'Wartosc maksymalna przedzialu:  63771'</span>"
      ],
      "text/latex": [
       "'Wartosc maksymalna przedzialu:  63771'"
      ],
      "text/markdown": [
       "<span style=white-space:pre-wrap>'Wartosc maksymalna przedzialu:  63771'</span>"
      ],
      "text/plain": [
       "[1] \"Wartosc maksymalna przedzialu:  63771\""
      ]
     },
     "metadata": {},
     "output_type": "display_data"
    },
    {
     "data": {
      "text/html": [
       "<span style=white-space:pre-wrap>'Liczba przedzialów:  22'</span>"
      ],
      "text/latex": [
       "'Liczba przedzialów:  22'"
      ],
      "text/markdown": [
       "<span style=white-space:pre-wrap>'Liczba przedzialów:  22'</span>"
      ],
      "text/plain": [
       "[1] \"Liczba przedzialów:  22\""
      ]
     },
     "metadata": {},
     "output_type": "display_data"
    },
    {
     "data": {
      "text/html": [
       "<span style=white-space:pre-wrap>'Szerokosc przedzialu:  2851'</span>"
      ],
      "text/latex": [
       "'Szerokosc przedzialu:  2851'"
      ],
      "text/markdown": [
       "<span style=white-space:pre-wrap>'Szerokosc przedzialu:  2851'</span>"
      ],
      "text/plain": [
       "[1] \"Szerokosc przedzialu:  2851\""
      ]
     },
     "metadata": {},
     "output_type": "display_data"
    }
   ],
   "source": [
    "width <- 2.64 * IQR(charges) * n^(-1/3)\n",
    "width <- ceiling(width)\n",
    "num_of_breaks <- ceiling((max_value - min_value)/width)\n",
    "paste(\"Wartość minimalna: \", min_value)\n",
    "paste(\"Wartość minimalna przedziału: \", floor(min_value))\n",
    "paste(\"Wartość maksymalna: \", max_value)\n",
    "paste(\"Wartość maksymalna przedziału: \", ceiling(max_value))\n",
    "paste(\"Liczba przedziałów: \", num_of_breaks)\n",
    "paste(\"Szerokość przedziału: \", width)"
   ]
  },
  {
   "cell_type": "code",
   "execution_count": 208,
   "metadata": {},
   "outputs": [
    {
     "data": {
      "text/html": [
       "'Skonstruowany szereg rozdzielczy: '"
      ],
      "text/latex": [
       "'Skonstruowany szereg rozdzielczy: '"
      ],
      "text/markdown": [
       "'Skonstruowany szereg rozdzielczy: '"
      ],
      "text/plain": [
       "[1] \"Skonstruowany szereg rozdzielczy: \""
      ]
     },
     "metadata": {},
     "output_type": "display_data"
    },
    {
     "name": "stdout",
     "output_type": "stream",
     "text": [
      "[1] \"( 1121 , 3972 ]\"\n",
      "[1] \"( 3972 , 6823 ]\"\n",
      "[1] \"( 6823 , 9674 ]\"\n",
      "[1] \"( 9674 , 12525 ]\"\n",
      "[1] \"( 12525 , 15376 ]\"\n",
      "[1] \"( 15376 , 18227 ]\"\n",
      "[1] \"( 18227 , 21078 ]\"\n",
      "[1] \"( 21078 , 23929 ]\"\n",
      "[1] \"( 23929 , 26780 ]\"\n",
      "[1] \"( 26780 , 29631 ]\"\n",
      "[1] \"( 29631 , 32482 ]\"\n",
      "[1] \"( 32482 , 35333 ]\"\n",
      "[1] \"( 35333 , 38184 ]\"\n",
      "[1] \"( 38184 , 41035 ]\"\n",
      "[1] \"( 41035 , 43886 ]\"\n",
      "[1] \"( 43886 , 46737 ]\"\n",
      "[1] \"( 46737 , 49588 ]\"\n",
      "[1] \"( 49588 , 52439 ]\"\n",
      "[1] \"( 52439 , 55290 ]\"\n",
      "[1] \"( 55290 , 58141 ]\"\n",
      "[1] \"( 58141 , 60992 ]\"\n",
      "[1] \"( 60992 , 63843 ]\"\n"
     ]
    }
   ],
   "source": [
    "paste(\"Skonstruowany szereg rozdzielczy: \")\n",
    "cur <- floor(min_value)\n",
    "for (i in 1:num_of_breaks){\n",
    "    print(paste(\"(\",cur,\",\",cur+width,\"]\"))\n",
    "    cur <- cur + width\n",
    "}"
   ]
  },
  {
   "cell_type": "markdown",
   "metadata": {},
   "source": [
    "Z dwóch skonstruowanych szeregów ten drugi wydaje się być bardziej odpowiedni ze względu na mniejszą ilość przedziałów (22 do 37), która i tak nie jest mała. Dlatego to właśnie tego drugiego użyje do konstrukcji histogramu. "
   ]
  },
  {
   "cell_type": "markdown",
   "metadata": {},
   "source": [
    "## Histogram"
   ]
  },
  {
   "cell_type": "code",
   "execution_count": 209,
   "metadata": {},
   "outputs": [],
   "source": [
    "create_hist <- function (dane, k=1) {\n",
    "    len_of_breaks <- 2.64 * IQR(dane) * n^(-1/3) * k\n",
    "    num_of_breaks <- ceiling((max(dane) - min(dane))/len_of_breaks)\n",
    "    hist(dane, col='#4ea4cc',breaks=num_of_breaks, main = paste(\"Charges, asked breaks:\",num_of_breaks))\n",
    "}"
   ]
  },
  {
   "cell_type": "code",
   "execution_count": 210,
   "metadata": {},
   "outputs": [
    {
     "data": {
      "image/png": "[encoded data removed]",
      "text/plain": [
       "Plot with title \"Charges, asked breaks: 25\""
      ]
     },
     "metadata": {},
     "output_type": "display_data"
    }
   ],
   "source": [
    "prev <- par(mfrow=c(1,2))\n",
    "create_hist(charges, 1)\n",
    "create_hist(charges, 0.9)\n",
    "par(prev)"
   ]
  },
  {
   "cell_type": "markdown",
   "metadata": {},
   "source": [
    "Do obliczenia długości przedziałów zastosowałem wzór $h = 2.64 * IQR * n^{-1/3}$. Na podstawie długości tych przedziałów został zbudowany histogram. Wydał mi się on jednak dosyć ogólny, dlatego zmniejszając długość przedziałów do 90% z h udało mi się uzyskać bardziej szczegółowy histogram. <br> Histogram po lewo jest bardziej ogólny, jednak i tak dobrze odzwierciedla główne mody lokalne na 2/3 oraz 36/37 tysiącach dolarów. Na prawym histogramie natomiast możemy bardziej szczegółowo przyjrzeć się danym i można dostrzec dodatkowe mody lokalne np. na 20 tys, oraz znaczny spadek liczby osób płacących najniższe składki poniżej 2 tys dolarów. <br> Uważam, że oba te histogramy znajdą swoje zastosowania."
   ]
  },
  {
   "cell_type": "markdown",
   "metadata": {},
   "source": [
    "## Koszt ubezpieczenia, w zależności od BMI"
   ]
  },
  {
   "cell_type": "code",
   "execution_count": 16,
   "metadata": {},
   "outputs": [
    {
     "data": {
      "image/png": "[encoded data removed]",
      "text/plain": [
       "plot without title"
      ]
     },
     "metadata": {},
     "output_type": "display_data"
    }
   ],
   "source": [
    "plot(charges ~ bmi)"
   ]
  },
  {
   "cell_type": "markdown",
   "metadata": {},
   "source": [
    "Z wykresu można dostrzec pewną zależność, że osoby które mają BMI<30 płacą mniej niż osoby mające ten wskaźnik wyższy. Należy jednak sprawdzić wskaźniki korelacji i regresji by wykazać zależność. "
   ]
  },
  {
   "cell_type": "markdown",
   "metadata": {},
   "source": [
    "### Wpółczynnik korelacji"
   ]
  },
  {
   "cell_type": "code",
   "execution_count": 17,
   "metadata": {},
   "outputs": [
    {
     "data": {
      "text/plain": [
       "\n",
       "\tPearson's product-moment correlation\n",
       "\n",
       "data:  charges and bmi\n",
       "t = 7.3966, df = 1336, p-value = 2.459e-13\n",
       "alternative hypothesis: true correlation is not equal to 0\n",
       "95 percent confidence interval:\n",
       " 0.1463052 0.2492822\n",
       "sample estimates:\n",
       "     cor \n",
       "0.198341 \n"
      ]
     },
     "metadata": {},
     "output_type": "display_data"
    }
   ],
   "source": [
    "cor.test(charges,bmi)"
   ]
  },
  {
   "cell_type": "markdown",
   "metadata": {},
   "source": [
    "P-value dla testu t dla współczynnika korelacjila każdego sensowengo poziomu istotności(0.05,0.01,0.001...) odrzuciłby hipotezę zerową, zakładającą brak zależności między zmiennymi."
   ]
  },
  {
   "cell_type": "code",
   "execution_count": 18,
   "metadata": {},
   "outputs": [
    {
     "data": {
      "text/html": [
       "0.198340968833629"
      ],
      "text/latex": [
       "0.198340968833629"
      ],
      "text/markdown": [
       "0.198340968833629"
      ],
      "text/plain": [
       "[1] 0.198341"
      ]
     },
     "metadata": {},
     "output_type": "display_data"
    }
   ],
   "source": [
    "cor(charges, bmi)"
   ]
  },
  {
   "cell_type": "markdown",
   "metadata": {},
   "source": [
    "Współczynnik korelacji przyjmuje zbyt małą wartość, by można jasno wskazać, że taka zależność ma znaczącą wartość. Tym bardzij budowanie modelu regresji nie ma sensu.\n",
    "<br> Mimo tego, że z wykresu można wyciągnąć pewne wnioski i test t dla korelacji odrzucił hipotezę zerową to nie jest wystarczająco mocna korelacja."
   ]
  },
  {
   "cell_type": "markdown",
   "metadata": {},
   "source": [
    "# Koszt ubezpieczenia w zależności od faktu palenia papierów"
   ]
  },
  {
   "cell_type": "code",
   "execution_count": 19,
   "metadata": {},
   "outputs": [
    {
     "data": {
      "text/html": [
       "<span style=white-space:pre-wrap>'Smoker: median =  34456.34845 , standard deviation =  11541.5471755891'</span>"
      ],
      "text/latex": [
       "'Smoker: median =  34456.34845 , standard deviation =  11541.5471755891'"
      ],
      "text/markdown": [
       "<span style=white-space:pre-wrap>'Smoker: median =  34456.34845 , standard deviation =  11541.5471755891'</span>"
      ],
      "text/plain": [
       "[1] \"Smoker: median =  34456.34845 , standard deviation =  11541.5471755891\""
      ]
     },
     "metadata": {},
     "output_type": "display_data"
    },
    {
     "data": {
      "text/html": [
       "<span style=white-space:pre-wrap>'No smoker: median =  7345.4053 , standard deviation =  5993.78181919493'</span>"
      ],
      "text/latex": [
       "'No smoker: median =  7345.4053 , standard deviation =  5993.78181919493'"
      ],
      "text/markdown": [
       "<span style=white-space:pre-wrap>'No smoker: median =  7345.4053 , standard deviation =  5993.78181919493'</span>"
      ],
      "text/plain": [
       "[1] \"No smoker: median =  7345.4053 , standard deviation =  5993.78181919493\""
      ]
     },
     "metadata": {},
     "output_type": "display_data"
    },
    {
     "data": {
      "image/png": "[encoded data removed]",
      "text/plain": [
       "plot without title"
      ]
     },
     "metadata": {},
     "output_type": "display_data"
    }
   ],
   "source": [
    "plot(charges ~ smoker)\n",
    "name <- c('Smoker', 'No smoker')\n",
    "med <- c(median(charges[smoker == 'yes']), median(charges[smoker == 'no']))\n",
    "paste('Smoker: median = ', median(charges[smoker == 'yes']), ', standard deviation = ', sd(charges[smoker == 'yes']))\n",
    "paste('No smoker: median = ', median(charges[smoker == 'no']), ', standard deviation = ', sd(charges[smoker == 'no']))"
   ]
  },
  {
   "cell_type": "markdown",
   "metadata": {},
   "source": [
    "Tutaj zdecydownie można dostrzec trend, że ludzie palący płacą za ubezpieczenie zdrowotne znacznie więcej."
   ]
  },
  {
   "cell_type": "markdown",
   "metadata": {},
   "source": [
    "# 3. Testy"
   ]
  },
  {
   "cell_type": "markdown",
   "metadata": {},
   "source": [
    "## Test 1. Średnia koszt ubezpieczenia (test dla jednej populacji)"
   ]
  },
  {
   "cell_type": "markdown",
   "metadata": {},
   "source": [
    "Wykonajmy test dla średniej wartości opłaty w populacji. Jako, że próba jest duża (>1000) to żeby móc sprawidzić więcej rzeczy i uczynić testy ciekawszymi uznajmy, że nasza próba jest populacją z której będziemy wybierać losowo próby."
   ]
  },
  {
   "cell_type": "markdown",
   "metadata": {},
   "source": [
    "### Centralne Twierdzenie Graniczne"
   ]
  },
  {
   "cell_type": "code",
   "execution_count": 20,
   "metadata": {},
   "outputs": [
    {
     "data": {
      "image/png": "[encoded data removed]",
      "text/plain": [
       "Plot with title \"Charges, asked breaks: 24\""
      ]
     },
     "metadata": {},
     "output_type": "display_data"
    }
   ],
   "source": [
    "create_hist(charges, k=0.9)"
   ]
  },
  {
   "cell_type": "markdown",
   "metadata": {},
   "source": [
    "Z histogramu, który pozwoliłem sobie pokazać jescze raz, wyraźnie widać, że rozkład \"populacji\" jest mocno dodatnie skośny. Sprawdźmy dla jakiej próby można uznać, że mamy do czynienia z rozkładem normalnym dla wartości średniej."
   ]
  },
  {
   "cell_type": "code",
   "execution_count": 211,
   "metadata": {},
   "outputs": [],
   "source": [
    "clt_plot <- function(samp_size, data, k=25) {\n",
    "    my_mean <- c()\n",
    "    for (var in 1:2000)\n",
    "        {\n",
    "        my_sample <- data[sample.int(n,samp_size, replace = TRUE)]\n",
    "        my_mean <- c(mean(my_sample),my_mean)\n",
    "    }\n",
    "    hist(my_mean, col='#4ea4cc',breaks=k, main = paste(\"Rozmiar próbki: \",samp_size), xlab = \"Koszt ubezpieczenia\", ylab = \"Częstość występowania\")\n",
    "}"
   ]
  },
  {
   "cell_type": "code",
   "execution_count": 213,
   "metadata": {},
   "outputs": [
    {
     "data": {
      "image/png": "[encoded data removed]",
      "text/plain": [
       "Plot with title \"Rozmiar próbki:  320\""
      ]
     },
     "metadata": {},
     "output_type": "display_data"
    }
   ],
   "source": [
    "sample_size <- c(3,5,10,20,30,40,80,160,320)\n",
    "prev <- par(mfrow=c(3,3))\n",
    "num_of_breaks <- 25\n",
    "for (i in 1:9){\n",
    "    clt_plot(sample_size[i], charges, num_of_breaks)\n",
    "    abline(v=mean(charges))\n",
    "}\n",
    "par(prev)"
   ]
  },
  {
   "cell_type": "markdown",
   "metadata": {},
   "source": [
    "Zostało przedstawionych 9 histogramów dla prób o różnych wielkościach. Pionowa linia oznacza średnią arytmetyczną. <br>\n",
    "Histogramy dla próbki o rozmiarach 3 i 5 na pierwszy rzut oka nie przypominają rozkładu normalnego. Co oznacza, że dla tak małych próbek nie możemy zastosować testu Z. Nie moglibyśmy również zastosować testu T ponieważ rozkład populacji nie jest normalny. <br>\n",
    "Dla próbek o rozmiarze 10 i 20 rozkład coraz mocniej przypomina normalny, wciaż można zauważyć jednak pewną skośność. Widzimy, że punkt o największej częstotliwości znajduje się po lewo od średniej. <br>\n",
    "Od próbek o rozmiarze 30 rozkład jest już bardzo podobny do rozkładu normalnego, dlatego ten punkt (30) wyznaczył bym jako granicę od której można uznać, że rozkład średniej jest normalny. "
   ]
  },
  {
   "cell_type": "markdown",
   "metadata": {},
   "source": [
    "# Test Z i T dla jednej populacji"
   ]
  },
  {
   "cell_type": "markdown",
   "metadata": {},
   "source": [
    "Z powyższego rozumowania ustaliłem minimalną próbkę jaką powinienem pobrać jako 30. Dla większej precyzji zwiększam jednak próbkę do 35. Próbkę wylosowałem za pomocą generatora liczb losowych."
   ]
  },
  {
   "cell_type": "markdown",
   "metadata": {},
   "source": [
    "### Test Z"
   ]
  },
  {
   "cell_type": "markdown",
   "metadata": {},
   "source": [
    "Srawdźmy, przy pomocy testu Z (skoro założona duża próba moich danych jest populacją to znamy jej wariancję!) czy średnia wartość opłaty za ubezpieczenie zdrowotne równa się 13000\\\\$.\n",
    "<br> H0: $\\mu = 13000$, <br> H1: $\\mu \\neq 13000$ <br> $\\alpha = 0.05$"
   ]
  },
  {
   "cell_type": "code",
   "execution_count": 214,
   "metadata": {},
   "outputs": [
    {
     "data": {
      "text/html": [
       "<span style=white-space:pre-wrap>'Wartosc sredniej:  13706.8424834286'</span>"
      ],
      "text/latex": [
       "'Wartosc sredniej:  13706.8424834286'"
      ],
      "text/markdown": [
       "<span style=white-space:pre-wrap>'Wartosc sredniej:  13706.8424834286'</span>"
      ],
      "text/plain": [
       "[1] \"Wartosc sredniej:  13706.8424834286\""
      ]
     },
     "metadata": {},
     "output_type": "display_data"
    },
    {
     "data": {
      "text/html": [
       "<span style=white-space:pre-wrap>'Wartosc odchylenia standardowego \\'populacji\\':  12110.011236694'</span>"
      ],
      "text/latex": [
       "'Wartosc odchylenia standardowego \\textbackslash{}'populacji\\textbackslash{}':  12110.011236694'"
      ],
      "text/markdown": [
       "<span style=white-space:pre-wrap>'Wartosc odchylenia standardowego \\'populacji\\':  12110.011236694'</span>"
      ],
      "text/plain": [
       "[1] \"Wartosc odchylenia standardowego 'populacji':  12110.011236694\""
      ]
     },
     "metadata": {},
     "output_type": "display_data"
    },
    {
     "data": {
      "text/html": [
       "<span style=white-space:pre-wrap>'Wartosc statystyki Z:  0.345312357215392'</span>"
      ],
      "text/latex": [
       "'Wartosc statystyki Z:  0.345312357215392'"
      ],
      "text/markdown": [
       "<span style=white-space:pre-wrap>'Wartosc statystyki Z:  0.345312357215392'</span>"
      ],
      "text/plain": [
       "[1] \"Wartosc statystyki Z:  0.345312357215392\""
      ]
     },
     "metadata": {},
     "output_type": "display_data"
    },
    {
     "data": {
      "text/html": [
       "<span style=white-space:pre-wrap>'P-value:  0.729859557672598'</span>"
      ],
      "text/latex": [
       "'P-value:  0.729859557672598'"
      ],
      "text/markdown": [
       "<span style=white-space:pre-wrap>'P-value:  0.729859557672598'</span>"
      ],
      "text/plain": [
       "[1] \"P-value:  0.729859557672598\""
      ]
     },
     "metadata": {},
     "output_type": "display_data"
    }
   ],
   "source": [
    "my_sample <- charges[c(1255,734,617,746,618,680,158,528,1217,1210,382,630,909,439,500,572,267,378,547,525,681,22,1189,904,1332, 1323, 409, 773, 219, 677, 177, 191, 922, 309, 714)]\n",
    "x_mean <- mean(my_sample)\n",
    "Z <- (x_mean-13000)*sqrt(35)/(std)\n",
    "paste(\"Wartość średniej: \", x_mean)\n",
    "paste(\"Wartość odchylenia standardowego 'populacji': \", std)\n",
    "paste(\"Wartość statystyki Z: \", Z)\n",
    "paste(\"P-value: \", 2*(1-pnorm(Z)))"
   ]
  },
  {
   "cell_type": "markdown",
   "metadata": {},
   "source": [
    "P-value jest zdecydowanie większe od poziomu istotności alpha (0.05 << 0.73). Nie odrzucamy więc hipotezy zerowej. <br>\n",
    "Mimo tego, że patrząc na samą wartość H0 można by stwierdzić, że sporo różni się ona od średniej wartości 'populacji' (13000 do 13700), jednak należy zauważyć, że wartość odchylenia standardowego jest bliska wartości średniej. <br>\n",
    "Przeprowadźmy jeszcze poglądowo test T."
   ]
  },
  {
   "cell_type": "markdown",
   "metadata": {},
   "source": [
    "### Test t"
   ]
  },
  {
   "cell_type": "markdown",
   "metadata": {},
   "source": [
    "Test t przeprowadzimy na takich samych warunkach jak test T, jednak tym razem wyestymujemy odchylenie standardowe. <br> H0: $\\mu = 13000$, <br> H1: $\\mu \\neq 13000$ <br> $\\alpha = 0.05$"
   ]
  },
  {
   "cell_type": "code",
   "execution_count": 220,
   "metadata": {},
   "outputs": [
    {
     "data": {
      "text/html": [
       "<span style=white-space:pre-wrap>'Wartosc sredniej:  13706.8424834286'</span>"
      ],
      "text/latex": [
       "'Wartosc sredniej:  13706.8424834286'"
      ],
      "text/markdown": [
       "<span style=white-space:pre-wrap>'Wartosc sredniej:  13706.8424834286'</span>"
      ],
      "text/plain": [
       "[1] \"Wartosc sredniej:  13706.8424834286\""
      ]
     },
     "metadata": {},
     "output_type": "display_data"
    },
    {
     "data": {
      "text/html": [
       "<span style=white-space:pre-wrap>'Wartosc odchylenia standardowego \\'populacji\\':  11007.2502137812'</span>"
      ],
      "text/latex": [
       "'Wartosc odchylenia standardowego \\textbackslash{}'populacji\\textbackslash{}':  11007.2502137812'"
      ],
      "text/markdown": [
       "<span style=white-space:pre-wrap>'Wartosc odchylenia standardowego \\'populacji\\':  11007.2502137812'</span>"
      ],
      "text/plain": [
       "[1] \"Wartosc odchylenia standardowego 'populacji':  11007.2502137812\""
      ]
     },
     "metadata": {},
     "output_type": "display_data"
    },
    {
     "data": {
      "text/html": [
       "<span style=white-space:pre-wrap>'Wartosc statystyki T:  0.272413228662105'</span>"
      ],
      "text/latex": [
       "'Wartosc statystyki T:  0.272413228662105'"
      ],
      "text/markdown": [
       "<span style=white-space:pre-wrap>'Wartosc statystyki T:  0.272413228662105'</span>"
      ],
      "text/plain": [
       "[1] \"Wartosc statystyki T:  0.272413228662105\""
      ]
     },
     "metadata": {},
     "output_type": "display_data"
    },
    {
     "data": {
      "text/html": [
       "<span style=white-space:pre-wrap>'P-value:  0.732051053849549'</span>"
      ],
      "text/latex": [
       "'P-value:  0.732051053849549'"
      ],
      "text/markdown": [
       "<span style=white-space:pre-wrap>'P-value:  0.732051053849549'</span>"
      ],
      "text/plain": [
       "[1] \"P-value:  0.732051053849549\""
      ]
     },
     "metadata": {},
     "output_type": "display_data"
    }
   ],
   "source": [
    "my_sample <- charges[c(1255,734,617,746,618,680,158,528,1217,1210,382,630,909,439,500,572,267,378,547,525,681,22,1189,904,1332, 1323, 409, 773, 219, 677, 177, 191, 922, 309, 714)]\n",
    "x_mean <- mean(my_sample)\n",
    "T <- (x_mean-13200)*sqrt(35)/(sd(my_sample))\n",
    "paste(\"Wartość średniej: \", x_mean)\n",
    "paste(\"Wartość odchylenia standardowego 'populacji': \", sd(my_sample))\n",
    "paste(\"Wartość statystyki T: \", T)\n",
    "paste(\"P-value: \", 2*(1-pt(Z, df = 35 - 2)))"
   ]
  },
  {
   "cell_type": "markdown",
   "metadata": {},
   "source": [
    "Również nie ma podstaw do odrzucenia hipotezy zerowej."
   ]
  },
  {
   "cell_type": "markdown",
   "metadata": {},
   "source": [
    "## Test 2. Czy koszt ubezpieczenia jest zależny od płci? (test dla dwóch populacji)"
   ]
  },
  {
   "cell_type": "markdown",
   "metadata": {},
   "source": [
    "Jako, że nie znamy odchylenia standardowego kosztu ubezpieczenie populacji należało by wykonać test t (próba jest duża, co sprawia, że test Z najprawdopodobniej jest bardzo dobrym przybliżeniem, dlatego na końcu porównamy wyniki) . Test t dla dwóch populacji ma prostszą formę (liczenie stopnii swobody) kiedy wiemy, że wariancje są sobie równe(mogą różnić się nieznacznie). Z pomocą testu F jesteśmy w stanie sprawdzić czy założenie o równych wariancjach jest spełnione."
   ]
  },
  {
   "cell_type": "markdown",
   "metadata": {},
   "source": [
    "### Test F"
   ]
  },
  {
   "cell_type": "markdown",
   "metadata": {},
   "source": [
    "$H0: \\sigma_1^2 = \\sigma_2^2$ <br>\n",
    "$H1: \\sigma_1^2 \\ne \\sigma_2^2$ <br>\n",
    "$\\alpha = 0.01$"
   ]
  },
  {
   "cell_type": "markdown",
   "metadata": {},
   "source": [
    "### Liczba kobiet i mężczyzn w próbie"
   ]
  },
  {
   "cell_type": "code",
   "execution_count": 216,
   "metadata": {},
   "outputs": [
    {
     "data": {
      "text/html": [
       "<span style=white-space:pre-wrap>'Liczba kobiet:  662'</span>"
      ],
      "text/latex": [
       "'Liczba kobiet:  662'"
      ],
      "text/markdown": [
       "<span style=white-space:pre-wrap>'Liczba kobiet:  662'</span>"
      ],
      "text/plain": [
       "[1] \"Liczba kobiet:  662\""
      ]
     },
     "metadata": {},
     "output_type": "display_data"
    },
    {
     "data": {
      "text/html": [
       "<span style=white-space:pre-wrap>'Liczba mezczyzn:  676'</span>"
      ],
      "text/latex": [
       "'Liczba mezczyzn:  676'"
      ],
      "text/markdown": [
       "<span style=white-space:pre-wrap>'Liczba mezczyzn:  676'</span>"
      ],
      "text/plain": [
       "[1] \"Liczba mezczyzn:  676\""
      ]
     },
     "metadata": {},
     "output_type": "display_data"
    }
   ],
   "source": [
    "n_female <- length(Dane[Dane$sex == 'female', ]$smoker)\n",
    "n_male <- length(Dane[Dane$sex == 'male', ]$smoker)\n",
    "paste('Liczba kobiet: ', n_female)\n",
    "paste(\"Liczba mężczyzn: \", n_male)"
   ]
  },
  {
   "cell_type": "markdown",
   "metadata": {},
   "source": [
    "### Estymatory wariancji"
   ]
  },
  {
   "cell_type": "code",
   "execution_count": 217,
   "metadata": {},
   "outputs": [
    {
     "data": {
      "text/html": [
       "<span style=white-space:pre-wrap>'Kobiety:  123848048.28851'</span>"
      ],
      "text/latex": [
       "'Kobiety:  123848048.28851'"
      ],
      "text/markdown": [
       "<span style=white-space:pre-wrap>'Kobiety:  123848048.28851'</span>"
      ],
      "text/plain": [
       "[1] \"Kobiety:  123848048.28851\""
      ]
     },
     "metadata": {},
     "output_type": "display_data"
    },
    {
     "data": {
      "text/html": [
       "<span style=white-space:pre-wrap>'Mezczyzni:  168247513.2882'</span>"
      ],
      "text/latex": [
       "'Mezczyzni:  168247513.2882'"
      ],
      "text/markdown": [
       "<span style=white-space:pre-wrap>'Mezczyzni:  168247513.2882'</span>"
      ],
      "text/plain": [
       "[1] \"Mezczyzni:  168247513.2882\""
      ]
     },
     "metadata": {},
     "output_type": "display_data"
    }
   ],
   "source": [
    "var_m <- var(charges[sex == 'male'])\n",
    "var_f <- var(charges[sex == 'female'])\n",
    "\n",
    "paste(\"Kobiety: \", var_f)\n",
    "paste(\"Mężczyźni: \", var_m)"
   ]
  },
  {
   "cell_type": "markdown",
   "metadata": {},
   "source": [
    "### Wartości statystyki F i p-value oraz wykres statystyki F"
   ]
  },
  {
   "cell_type": "code",
   "execution_count": 218,
   "metadata": {},
   "outputs": [
    {
     "data": {
      "text/html": [
       "<span style=white-space:pre-wrap>'Wartosc statystyki F:  1.35849951301824'</span>"
      ],
      "text/latex": [
       "'Wartosc statystyki F:  1.35849951301824'"
      ],
      "text/markdown": [
       "<span style=white-space:pre-wrap>'Wartosc statystyki F:  1.35849951301824'</span>"
      ],
      "text/plain": [
       "[1] \"Wartosc statystyki F:  1.35849951301824\""
      ]
     },
     "metadata": {},
     "output_type": "display_data"
    },
    {
     "data": {
      "text/html": [
       "<span style=white-space:pre-wrap>'P-value:  0'</span>"
      ],
      "text/latex": [
       "'P-value:  0'"
      ],
      "text/markdown": [
       "<span style=white-space:pre-wrap>'P-value:  0'</span>"
      ],
      "text/plain": [
       "[1] \"P-value:  0\""
      ]
     },
     "metadata": {},
     "output_type": "display_data"
    }
   ],
   "source": [
    "F <- var_m/var_f\n",
    "p_value <- 1 - pf(F, df1=var_m-1, df2=var_f-1, lower.tail = TRUE)\n",
    "paste(\"Wartość statystyki F: \", F)\n",
    "paste(\"P-value: \", p_value)"
   ]
  },
  {
   "cell_type": "code",
   "execution_count": 219,
   "metadata": {},
   "outputs": [
    {
     "data": {
      "image/png": "[encoded data removed]",
      "text/plain": [
       "plot without title"
      ]
     },
     "metadata": {},
     "output_type": "display_data"
    }
   ],
   "source": [
    "x <- c(190:210/200)\n",
    "plot(y=df(x,df1=var_m-1, df2=var_f-1), x=x)\n",
    "lines(y=df(x,df1=var_m-1, df2=var_f-1), x=x)"
   ]
  },
  {
   "cell_type": "markdown",
   "metadata": {},
   "source": [
    "P-value jest na tyle mała, że R zaokrąglił ją do zera. Przy takiej liczbie stopni swobody nie jest ciężko odrzucić hipoteze zerową (co widać po wykresie). Praktycznie każda wartość statystyki ponieżej, bądź powyżej jeden nakazuje odrzucić H0.\n",
    "Z tego powodu nie możemy wykonać wersji testu T dla równych wariancji. Próbka jest jednak tak duża, że test Z będzie bardzo dobrym przybliżeniem"
   ]
  },
  {
   "cell_type": "markdown",
   "metadata": {},
   "source": [
    "### Test Z dwustronny dla dwóch populacji"
   ]
  },
  {
   "cell_type": "markdown",
   "metadata": {},
   "source": [
    "$H0: \\mu_{mężczyzn} = \\mu_{kobiet}$, <br> $H1: \\mu_{mężczyzn} > \\mu_{kobiet}$ <br> $\\alpha = 0.01$"
   ]
  },
  {
   "cell_type": "markdown",
   "metadata": {},
   "source": [
    "### Średnia wartość ubezpieczenia"
   ]
  },
  {
   "cell_type": "code",
   "execution_count": 155,
   "metadata": {},
   "outputs": [
    {
     "data": {
      "text/html": [
       "<span style=white-space:pre-wrap>'Kobiety:  12569.5788438353'</span>"
      ],
      "text/latex": [
       "'Kobiety:  12569.5788438353'"
      ],
      "text/markdown": [
       "<span style=white-space:pre-wrap>'Kobiety:  12569.5788438353'</span>"
      ],
      "text/plain": [
       "[1] \"Kobiety:  12569.5788438353\""
      ]
     },
     "metadata": {},
     "output_type": "display_data"
    },
    {
     "data": {
      "text/html": [
       "<span style=white-space:pre-wrap>'Mezczyzni:  13956.7511777219'</span>"
      ],
      "text/latex": [
       "'Mezczyzni:  13956.7511777219'"
      ],
      "text/markdown": [
       "<span style=white-space:pre-wrap>'Mezczyzni:  13956.7511777219'</span>"
      ],
      "text/plain": [
       "[1] \"Mezczyzni:  13956.7511777219\""
      ]
     },
     "metadata": {},
     "output_type": "display_data"
    }
   ],
   "source": [
    "mean_m <- mean(charges[sex == 'male'])\n",
    "mean_f <- mean(charges[sex == 'female'])\n",
    "paste(\"Kobiety: \", mean_f)\n",
    "paste(\"Mężczyźni: \", mean_m)"
   ]
  },
  {
   "cell_type": "markdown",
   "metadata": {},
   "source": [
    "### Wartość statystki Z i p-value"
   ]
  },
  {
   "cell_type": "code",
   "execution_count": 164,
   "metadata": {},
   "outputs": [
    {
     "data": {
      "text/html": [
       "<span style=white-space:pre-wrap>'Wartosc statystyki Z:  2.10088782323596'</span>"
      ],
      "text/latex": [
       "'Wartosc statystyki Z:  2.10088782323596'"
      ],
      "text/markdown": [
       "<span style=white-space:pre-wrap>'Wartosc statystyki Z:  2.10088782323596'</span>"
      ],
      "text/plain": [
       "[1] \"Wartosc statystyki Z:  2.10088782323596\""
      ]
     },
     "metadata": {},
     "output_type": "display_data"
    },
    {
     "data": {
      "text/html": [
       "<span style=white-space:pre-wrap>'P-value:  0.0356508145789363'</span>"
      ],
      "text/latex": [
       "'P-value:  0.0356508145789363'"
      ],
      "text/markdown": [
       "<span style=white-space:pre-wrap>'P-value:  0.0356508145789363'</span>"
      ],
      "text/plain": [
       "[1] \"P-value:  0.0356508145789363\""
      ]
     },
     "metadata": {},
     "output_type": "display_data"
    }
   ],
   "source": [
    "Z <- (mean_m - mean_f) /(sqrt(var_m/n_male + var_f/n_female))\n",
    "p_value <- (1 - pnorm(Z))*2\n",
    "paste(\"Wartość statystyki Z: \", Z)\n",
    "paste(\"P-value: \", p_value)"
   ]
  },
  {
   "cell_type": "markdown",
   "metadata": {},
   "source": [
    "Przy założonym stopniu istotności nie możemy odrzucić H0 (0.01 < 0.035). Ustaliliśmy jednak dosyć niską $\\alpha$. Zwiększając moc test, czyli podwyższając $\\alpha$ do 0.05 moglibyśmy odrzucić H0. "
   ]
  },
  {
   "cell_type": "markdown",
   "metadata": {},
   "source": [
    "## Test 3. Czy mężczyźni palą częściej niż kobiety (test Z dla dwóch populacji)"
   ]
  },
  {
   "cell_type": "markdown",
   "metadata": {},
   "source": [
    "Uważa się, że mężczyźni średnio częściej są palaczami niż kobiety. Sprawdźmy to używając testu Z. <br> Przeprowadźmy test jednostronny: <br> H0: $\\mu_{mężczyzn} = \\mu_{kobiet}$, <br> H1: $\\mu_{mężczyzn} > \\mu_{kobiet}$ <br> $\\alpha = 0.01$"
   ]
  },
  {
   "cell_type": "markdown",
   "metadata": {},
   "source": [
    "### Liczba kobiet i mężczyzn w próbie"
   ]
  },
  {
   "cell_type": "code",
   "execution_count": 59,
   "metadata": {},
   "outputs": [
    {
     "data": {
      "text/html": [
       "<span style=white-space:pre-wrap>'Liczba kobiet:  662'</span>"
      ],
      "text/latex": [
       "'Liczba kobiet:  662'"
      ],
      "text/markdown": [
       "<span style=white-space:pre-wrap>'Liczba kobiet:  662'</span>"
      ],
      "text/plain": [
       "[1] \"Liczba kobiet:  662\""
      ]
     },
     "metadata": {},
     "output_type": "display_data"
    },
    {
     "data": {
      "text/html": [
       "<span style=white-space:pre-wrap>'Liczba mezczyzn:  676'</span>"
      ],
      "text/latex": [
       "'Liczba mezczyzn:  676'"
      ],
      "text/markdown": [
       "<span style=white-space:pre-wrap>'Liczba mezczyzn:  676'</span>"
      ],
      "text/plain": [
       "[1] \"Liczba mezczyzn:  676\""
      ]
     },
     "metadata": {},
     "output_type": "display_data"
    }
   ],
   "source": [
    "n_female <- length(Dane[Dane$sex == 'female', ]$smoker)\n",
    "n_male <- length(Dane[Dane$sex == 'male', ]$smoker)\n",
    "paste('Liczba kobiet: ', n_female)\n",
    "paste(\"Liczba mężczyzn: \", n_male)"
   ]
  },
  {
   "cell_type": "markdown",
   "metadata": {},
   "source": [
    "Widzimy, że próba jest duża, dlatego dzięki znajomości CLT wiemy, że test Z będzie odpowiedni do przeprowadzenia tego testu."
   ]
  },
  {
   "cell_type": "markdown",
   "metadata": {},
   "source": [
    "### Liczba kobiet i mężczyzn palących"
   ]
  },
  {
   "cell_type": "code",
   "execution_count": 60,
   "metadata": {},
   "outputs": [
    {
     "data": {
      "text/html": [
       "<span style=white-space:pre-wrap>'Liczba palacych kobiet:  115'</span>"
      ],
      "text/latex": [
       "'Liczba palacych kobiet:  115'"
      ],
      "text/markdown": [
       "<span style=white-space:pre-wrap>'Liczba palacych kobiet:  115'</span>"
      ],
      "text/plain": [
       "[1] \"Liczba palacych kobiet:  115\""
      ]
     },
     "metadata": {},
     "output_type": "display_data"
    },
    {
     "data": {
      "text/html": [
       "<span style=white-space:pre-wrap>'Liczba palacych kobiet:  159'</span>"
      ],
      "text/latex": [
       "'Liczba palacych kobiet:  159'"
      ],
      "text/markdown": [
       "<span style=white-space:pre-wrap>'Liczba palacych kobiet:  159'</span>"
      ],
      "text/plain": [
       "[1] \"Liczba palacych kobiet:  159\""
      ]
     },
     "metadata": {},
     "output_type": "display_data"
    }
   ],
   "source": [
    "smoker_female <- length(Dane[Dane$smoker == 'yes' & Dane$sex == 'female',]$smoker)\n",
    "smoker_male <- length(Dane[Dane$smoker == 'yes' & Dane$sex == 'male',]$smoker)\n",
    "paste('Liczba palących kobiet: ', smoker_female)\n",
    "paste('Liczba palących kobiet: ', smoker_male)"
   ]
  },
  {
   "cell_type": "markdown",
   "metadata": {},
   "source": [
    "### Prawdopodobieństwo że osoba danej płci pali"
   ]
  },
  {
   "cell_type": "code",
   "execution_count": 62,
   "metadata": {},
   "outputs": [
    {
     "data": {
      "text/html": [
       "<span style=white-space:pre-wrap>'Kobiety:  0.173716012084592'</span>"
      ],
      "text/latex": [
       "'Kobiety:  0.173716012084592'"
      ],
      "text/markdown": [
       "<span style=white-space:pre-wrap>'Kobiety:  0.173716012084592'</span>"
      ],
      "text/plain": [
       "[1] \"Kobiety:  0.173716012084592\""
      ]
     },
     "metadata": {},
     "output_type": "display_data"
    },
    {
     "data": {
      "text/html": [
       "<span style=white-space:pre-wrap>'Mezczyzni:  0.235207100591716'</span>"
      ],
      "text/latex": [
       "'Mezczyzni:  0.235207100591716'"
      ],
      "text/markdown": [
       "<span style=white-space:pre-wrap>'Mezczyzni:  0.235207100591716'</span>"
      ],
      "text/plain": [
       "[1] \"Mezczyzni:  0.235207100591716\""
      ]
     },
     "metadata": {},
     "output_type": "display_data"
    }
   ],
   "source": [
    "Ex_female <- smoker_female/n_female\n",
    "Ex_male <- smoker_male/n_male\n",
    "paste('Kobiety: ', Ex_female)\n",
    "paste('Mężczyźni: ', Ex_male)"
   ]
  },
  {
   "cell_type": "markdown",
   "metadata": {},
   "source": [
    "### Łączne odchylenie standardowe"
   ]
  },
  {
   "cell_type": "code",
   "execution_count": 63,
   "metadata": {},
   "outputs": [
    {
     "data": {
      "text/html": [
       "<span style=white-space:pre-wrap>'Wartosc odchylenia:  0.021975613250088'</span>"
      ],
      "text/latex": [
       "'Wartosc odchylenia:  0.021975613250088'"
      ],
      "text/markdown": [
       "<span style=white-space:pre-wrap>'Wartosc odchylenia:  0.021975613250088'</span>"
      ],
      "text/plain": [
       "[1] \"Wartosc odchylenia:  0.021975613250088\""
      ]
     },
     "metadata": {},
     "output_type": "display_data"
    }
   ],
   "source": [
    "VarF <- Ex_female*(1-Ex_female)/n_female\n",
    "VarM <- Ex_male*(1-Ex_male)/n_male\n",
    "Std <- sqrt(VarF + VarM)\n",
    "paste('Wartość odchylenia: ',Std)"
   ]
  },
  {
   "cell_type": "markdown",
   "metadata": {},
   "source": [
    "### Wartość statystyki Z i p-value"
   ]
  },
  {
   "cell_type": "code",
   "execution_count": 68,
   "metadata": {},
   "outputs": [
    {
     "data": {
      "text/html": [
       "<span style=white-space:pre-wrap>'Wartosc statystyki Z:  2.79815119638937'</span>"
      ],
      "text/latex": [
       "'Wartosc statystyki Z:  2.79815119638937'"
      ],
      "text/markdown": [
       "<span style=white-space:pre-wrap>'Wartosc statystyki Z:  2.79815119638937'</span>"
      ],
      "text/plain": [
       "[1] \"Wartosc statystyki Z:  2.79815119638937\""
      ]
     },
     "metadata": {},
     "output_type": "display_data"
    },
    {
     "data": {
      "text/html": [
       "'P-value: 0.00256980238081761'"
      ],
      "text/latex": [
       "'P-value: 0.00256980238081761'"
      ],
      "text/markdown": [
       "'P-value: 0.00256980238081761'"
      ],
      "text/plain": [
       "[1] \"P-value: 0.00256980238081761\""
      ]
     },
     "metadata": {},
     "output_type": "display_data"
    }
   ],
   "source": [
    "Z <- (Ex_male - Ex_female)/Std\n",
    "paste('Wartość statystyki Z: ', Z)\n",
    "paste('P-value:' ,1 - pnorm(Z))"
   ]
  },
  {
   "cell_type": "markdown",
   "metadata": {},
   "source": [
    "Otrzymana wartość p-value pozwala odrzucić H0. Test przeprowadzony na tej próbie wykazuje, że więcej mężczyzn pali papierosy niż kobiety."
   ]
  },
  {
   "cell_type": "markdown",
   "metadata": {},
   "source": [
    "# 4. Podsumowanie"
   ]
  },
  {
   "cell_type": "markdown",
   "metadata": {},
   "source": [
    "Z powyższej analizy udało sie wyciągnąć następujące wnioski:\n",
    "- można dywagować czy BMI ma wpływ na koszty ubezpieczenia czy nie (test t odrzucił brak korelacji, ale korelacja jest znikoma)\n",
    "- ludzie palący płacą średnio zdecydowanie więcej niż ludzie niepalący\n",
    "- przy podanym rozkładzie opłat granica dla któej CLT jest spełnione to 30 (w przypadku danych na których pracowaliśmy nie było to problemem)\n",
    "- H0(średnia opłat = 13000) nie została odrzucona\n",
    "- wariancje kosztu ubezpieczenia kobiet i mężczyzn znacząco różni się od siebie, nie byliśmy w stanie użyć testu t dla populacji o tych samych wariancjach\n",
    "- nie odrzuciliśmy H0 przy teście sprawdzającym czy średnia opłat jest taka sama, bądź różna w zależności od płci\n",
    "- udało się potwierdzić przesąd, że to mężczyźni palą więcej niż kobiety odrzucając H0.\n",
    "\n",
    "W dalszej kolejności można by sprawdzić jak miejsce w którym się mieszka, albo ilość dzieci ma wpływ na cenę którą się płaci za ubezpieczenie. Wydaje mi się, że analizując te dane również można by dojść do ciekawych zależności i wniosków."
   ]
  }
 ],
 "metadata": {
  "kernelspec": {
   "display_name": "R",
   "language": "R",
   "name": "ir"
  },
  "language_info": {
   "codemirror_mode": "r",
   "file_extension": ".r",
   "mimetype": "text/x-r-source",
   "name": "R",
   "pygments_lexer": "r",
   "version": "3.6.1"
  }
 },
 "nbformat": 4,
 "nbformat_minor": 4
}
