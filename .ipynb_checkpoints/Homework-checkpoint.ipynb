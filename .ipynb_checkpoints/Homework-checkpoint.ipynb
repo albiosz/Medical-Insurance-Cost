{
 "cells": [
  {
   "cell_type": "markdown",
   "metadata": {},
   "source": [
    "# Albert Szulc, 141321"
   ]
  },
  {
   "cell_type": "markdown",
   "metadata": {},
   "source": [
    "# Zadanie domowe - analiza eksploracyjna + test statystyczny"
   ]
  },
  {
   "cell_type": "code",
   "execution_count": 1,
   "metadata": {},
   "outputs": [
    {
     "data": {
      "text/html": [
       "<table>\n",
       "<thead><tr><th scope=col>age</th><th scope=col>sex</th><th scope=col>bmi</th><th scope=col>children</th><th scope=col>smoker</th><th scope=col>region</th><th scope=col>charges</th></tr></thead>\n",
       "<tbody>\n",
       "\t<tr><td>19       </td><td>female   </td><td>27.900   </td><td>0        </td><td>yes      </td><td>southwest</td><td>16884.924</td></tr>\n",
       "\t<tr><td>18       </td><td>male     </td><td>33.770   </td><td>1        </td><td>no       </td><td>southeast</td><td> 1725.552</td></tr>\n",
       "\t<tr><td>28       </td><td>male     </td><td>33.000   </td><td>3        </td><td>no       </td><td>southeast</td><td> 4449.462</td></tr>\n",
       "\t<tr><td>33       </td><td>male     </td><td>22.705   </td><td>0        </td><td>no       </td><td>northwest</td><td>21984.471</td></tr>\n",
       "\t<tr><td>32       </td><td>male     </td><td>28.880   </td><td>0        </td><td>no       </td><td>northwest</td><td> 3866.855</td></tr>\n",
       "\t<tr><td>31       </td><td>female   </td><td>25.740   </td><td>0        </td><td>no       </td><td>southeast</td><td> 3756.622</td></tr>\n",
       "\t<tr><td>46       </td><td>female   </td><td>33.440   </td><td>1        </td><td>no       </td><td>southeast</td><td> 8240.590</td></tr>\n",
       "\t<tr><td>37       </td><td>female   </td><td>27.740   </td><td>3        </td><td>no       </td><td>northwest</td><td> 7281.506</td></tr>\n",
       "\t<tr><td>37       </td><td>male     </td><td>29.830   </td><td>2        </td><td>no       </td><td>northeast</td><td> 6406.411</td></tr>\n",
       "\t<tr><td>60       </td><td>female   </td><td>25.840   </td><td>0        </td><td>no       </td><td>northwest</td><td>28923.137</td></tr>\n",
       "\t<tr><td>25       </td><td>male     </td><td>26.220   </td><td>0        </td><td>no       </td><td>northeast</td><td> 2721.321</td></tr>\n",
       "\t<tr><td>62       </td><td>female   </td><td>26.290   </td><td>0        </td><td>yes      </td><td>southeast</td><td>27808.725</td></tr>\n",
       "\t<tr><td>23       </td><td>male     </td><td>34.400   </td><td>0        </td><td>no       </td><td>southwest</td><td> 1826.843</td></tr>\n",
       "\t<tr><td>56       </td><td>female   </td><td>39.820   </td><td>0        </td><td>no       </td><td>southeast</td><td>11090.718</td></tr>\n",
       "\t<tr><td>27       </td><td>male     </td><td>42.130   </td><td>0        </td><td>yes      </td><td>southeast</td><td>39611.758</td></tr>\n",
       "\t<tr><td>19       </td><td>male     </td><td>24.600   </td><td>1        </td><td>no       </td><td>southwest</td><td> 1837.237</td></tr>\n",
       "\t<tr><td>52       </td><td>female   </td><td>30.780   </td><td>1        </td><td>no       </td><td>northeast</td><td>10797.336</td></tr>\n",
       "\t<tr><td>23       </td><td>male     </td><td>23.845   </td><td>0        </td><td>no       </td><td>northeast</td><td> 2395.172</td></tr>\n",
       "\t<tr><td>56       </td><td>male     </td><td>40.300   </td><td>0        </td><td>no       </td><td>southwest</td><td>10602.385</td></tr>\n",
       "\t<tr><td>30       </td><td>male     </td><td>35.300   </td><td>0        </td><td>yes      </td><td>southwest</td><td>36837.467</td></tr>\n",
       "\t<tr><td>60       </td><td>female   </td><td>36.005   </td><td>0        </td><td>no       </td><td>northeast</td><td>13228.847</td></tr>\n",
       "\t<tr><td>30       </td><td>female   </td><td>32.400   </td><td>1        </td><td>no       </td><td>southwest</td><td> 4149.736</td></tr>\n",
       "\t<tr><td>18       </td><td>male     </td><td>34.100   </td><td>0        </td><td>no       </td><td>southeast</td><td> 1137.011</td></tr>\n",
       "\t<tr><td>34       </td><td>female   </td><td>31.920   </td><td>1        </td><td>yes      </td><td>northeast</td><td>37701.877</td></tr>\n",
       "\t<tr><td>37       </td><td>male     </td><td>28.025   </td><td>2        </td><td>no       </td><td>northwest</td><td> 6203.902</td></tr>\n",
       "\t<tr><td>59       </td><td>female   </td><td>27.720   </td><td>3        </td><td>no       </td><td>southeast</td><td>14001.134</td></tr>\n",
       "\t<tr><td>63       </td><td>female   </td><td>23.085   </td><td>0        </td><td>no       </td><td>northeast</td><td>14451.835</td></tr>\n",
       "\t<tr><td>55       </td><td>female   </td><td>32.775   </td><td>2        </td><td>no       </td><td>northwest</td><td>12268.632</td></tr>\n",
       "\t<tr><td>23       </td><td>male     </td><td>17.385   </td><td>1        </td><td>no       </td><td>northwest</td><td> 2775.192</td></tr>\n",
       "\t<tr><td>31       </td><td>male     </td><td>36.300   </td><td>2        </td><td>yes      </td><td>southwest</td><td>38711.000</td></tr>\n",
       "\t<tr><td>...</td><td>...</td><td>...</td><td>...</td><td>...</td><td>...</td><td>...</td></tr>\n",
       "\t<tr><td>25       </td><td>female   </td><td>30.200   </td><td>0        </td><td>yes      </td><td>southwest</td><td>33900.653</td></tr>\n",
       "\t<tr><td>41       </td><td>male     </td><td>32.200   </td><td>2        </td><td>no       </td><td>southwest</td><td> 6875.961</td></tr>\n",
       "\t<tr><td>42       </td><td>male     </td><td>26.315   </td><td>1        </td><td>no       </td><td>northwest</td><td> 6940.910</td></tr>\n",
       "\t<tr><td>33       </td><td>female   </td><td>26.695   </td><td>0        </td><td>no       </td><td>northwest</td><td> 4571.413</td></tr>\n",
       "\t<tr><td>34       </td><td>male     </td><td>42.900   </td><td>1        </td><td>no       </td><td>southwest</td><td> 4536.259</td></tr>\n",
       "\t<tr><td>19       </td><td>female   </td><td>34.700   </td><td>2        </td><td>yes      </td><td>southwest</td><td>36397.576</td></tr>\n",
       "\t<tr><td>30       </td><td>female   </td><td>23.655   </td><td>3        </td><td>yes      </td><td>northwest</td><td>18765.875</td></tr>\n",
       "\t<tr><td>18       </td><td>male     </td><td>28.310   </td><td>1        </td><td>no       </td><td>northeast</td><td>11272.331</td></tr>\n",
       "\t<tr><td>19       </td><td>female   </td><td>20.600   </td><td>0        </td><td>no       </td><td>southwest</td><td> 1731.677</td></tr>\n",
       "\t<tr><td>18       </td><td>male     </td><td>53.130   </td><td>0        </td><td>no       </td><td>southeast</td><td> 1163.463</td></tr>\n",
       "\t<tr><td>35       </td><td>male     </td><td>39.710   </td><td>4        </td><td>no       </td><td>northeast</td><td>19496.719</td></tr>\n",
       "\t<tr><td>39       </td><td>female   </td><td>26.315   </td><td>2        </td><td>no       </td><td>northwest</td><td> 7201.701</td></tr>\n",
       "\t<tr><td>31       </td><td>male     </td><td>31.065   </td><td>3        </td><td>no       </td><td>northwest</td><td> 5425.023</td></tr>\n",
       "\t<tr><td>62       </td><td>male     </td><td>26.695   </td><td>0        </td><td>yes      </td><td>northeast</td><td>28101.333</td></tr>\n",
       "\t<tr><td>62       </td><td>male     </td><td>38.830   </td><td>0        </td><td>no       </td><td>southeast</td><td>12981.346</td></tr>\n",
       "\t<tr><td>42       </td><td>female   </td><td>40.370   </td><td>2        </td><td>yes      </td><td>southeast</td><td>43896.376</td></tr>\n",
       "\t<tr><td>31       </td><td>male     </td><td>25.935   </td><td>1        </td><td>no       </td><td>northwest</td><td> 4239.893</td></tr>\n",
       "\t<tr><td>61       </td><td>male     </td><td>33.535   </td><td>0        </td><td>no       </td><td>northeast</td><td>13143.337</td></tr>\n",
       "\t<tr><td>42       </td><td>female   </td><td>32.870   </td><td>0        </td><td>no       </td><td>northeast</td><td> 7050.021</td></tr>\n",
       "\t<tr><td>51       </td><td>male     </td><td>30.030   </td><td>1        </td><td>no       </td><td>southeast</td><td> 9377.905</td></tr>\n",
       "\t<tr><td>23       </td><td>female   </td><td>24.225   </td><td>2        </td><td>no       </td><td>northeast</td><td>22395.744</td></tr>\n",
       "\t<tr><td>52       </td><td>male     </td><td>38.600   </td><td>2        </td><td>no       </td><td>southwest</td><td>10325.206</td></tr>\n",
       "\t<tr><td>57       </td><td>female   </td><td>25.740   </td><td>2        </td><td>no       </td><td>southeast</td><td>12629.166</td></tr>\n",
       "\t<tr><td>23       </td><td>female   </td><td>33.400   </td><td>0        </td><td>no       </td><td>southwest</td><td>10795.937</td></tr>\n",
       "\t<tr><td>52       </td><td>female   </td><td>44.700   </td><td>3        </td><td>no       </td><td>southwest</td><td>11411.685</td></tr>\n",
       "\t<tr><td>50       </td><td>male     </td><td>30.970   </td><td>3        </td><td>no       </td><td>northwest</td><td>10600.548</td></tr>\n",
       "\t<tr><td>18       </td><td>female   </td><td>31.920   </td><td>0        </td><td>no       </td><td>northeast</td><td> 2205.981</td></tr>\n",
       "\t<tr><td>18       </td><td>female   </td><td>36.850   </td><td>0        </td><td>no       </td><td>southeast</td><td> 1629.833</td></tr>\n",
       "\t<tr><td>21       </td><td>female   </td><td>25.800   </td><td>0        </td><td>no       </td><td>southwest</td><td> 2007.945</td></tr>\n",
       "\t<tr><td>61       </td><td>female   </td><td>29.070   </td><td>0        </td><td>yes      </td><td>northwest</td><td>29141.360</td></tr>\n",
       "</tbody>\n",
       "</table>\n"
      ],
      "text/latex": [
       "\\begin{tabular}{r|lllllll}\n",
       " age & sex & bmi & children & smoker & region & charges\\\\\n",
       "\\hline\n",
       "\t 19        & female    & 27.900    & 0         & yes       & southwest & 16884.924\\\\\n",
       "\t 18        & male      & 33.770    & 1         & no        & southeast &  1725.552\\\\\n",
       "\t 28        & male      & 33.000    & 3         & no        & southeast &  4449.462\\\\\n",
       "\t 33        & male      & 22.705    & 0         & no        & northwest & 21984.471\\\\\n",
       "\t 32        & male      & 28.880    & 0         & no        & northwest &  3866.855\\\\\n",
       "\t 31        & female    & 25.740    & 0         & no        & southeast &  3756.622\\\\\n",
       "\t 46        & female    & 33.440    & 1         & no        & southeast &  8240.590\\\\\n",
       "\t 37        & female    & 27.740    & 3         & no        & northwest &  7281.506\\\\\n",
       "\t 37        & male      & 29.830    & 2         & no        & northeast &  6406.411\\\\\n",
       "\t 60        & female    & 25.840    & 0         & no        & northwest & 28923.137\\\\\n",
       "\t 25        & male      & 26.220    & 0         & no        & northeast &  2721.321\\\\\n",
       "\t 62        & female    & 26.290    & 0         & yes       & southeast & 27808.725\\\\\n",
       "\t 23        & male      & 34.400    & 0         & no        & southwest &  1826.843\\\\\n",
       "\t 56        & female    & 39.820    & 0         & no        & southeast & 11090.718\\\\\n",
       "\t 27        & male      & 42.130    & 0         & yes       & southeast & 39611.758\\\\\n",
       "\t 19        & male      & 24.600    & 1         & no        & southwest &  1837.237\\\\\n",
       "\t 52        & female    & 30.780    & 1         & no        & northeast & 10797.336\\\\\n",
       "\t 23        & male      & 23.845    & 0         & no        & northeast &  2395.172\\\\\n",
       "\t 56        & male      & 40.300    & 0         & no        & southwest & 10602.385\\\\\n",
       "\t 30        & male      & 35.300    & 0         & yes       & southwest & 36837.467\\\\\n",
       "\t 60        & female    & 36.005    & 0         & no        & northeast & 13228.847\\\\\n",
       "\t 30        & female    & 32.400    & 1         & no        & southwest &  4149.736\\\\\n",
       "\t 18        & male      & 34.100    & 0         & no        & southeast &  1137.011\\\\\n",
       "\t 34        & female    & 31.920    & 1         & yes       & northeast & 37701.877\\\\\n",
       "\t 37        & male      & 28.025    & 2         & no        & northwest &  6203.902\\\\\n",
       "\t 59        & female    & 27.720    & 3         & no        & southeast & 14001.134\\\\\n",
       "\t 63        & female    & 23.085    & 0         & no        & northeast & 14451.835\\\\\n",
       "\t 55        & female    & 32.775    & 2         & no        & northwest & 12268.632\\\\\n",
       "\t 23        & male      & 17.385    & 1         & no        & northwest &  2775.192\\\\\n",
       "\t 31        & male      & 36.300    & 2         & yes       & southwest & 38711.000\\\\\n",
       "\t ... & ... & ... & ... & ... & ... & ...\\\\\n",
       "\t 25        & female    & 30.200    & 0         & yes       & southwest & 33900.653\\\\\n",
       "\t 41        & male      & 32.200    & 2         & no        & southwest &  6875.961\\\\\n",
       "\t 42        & male      & 26.315    & 1         & no        & northwest &  6940.910\\\\\n",
       "\t 33        & female    & 26.695    & 0         & no        & northwest &  4571.413\\\\\n",
       "\t 34        & male      & 42.900    & 1         & no        & southwest &  4536.259\\\\\n",
       "\t 19        & female    & 34.700    & 2         & yes       & southwest & 36397.576\\\\\n",
       "\t 30        & female    & 23.655    & 3         & yes       & northwest & 18765.875\\\\\n",
       "\t 18        & male      & 28.310    & 1         & no        & northeast & 11272.331\\\\\n",
       "\t 19        & female    & 20.600    & 0         & no        & southwest &  1731.677\\\\\n",
       "\t 18        & male      & 53.130    & 0         & no        & southeast &  1163.463\\\\\n",
       "\t 35        & male      & 39.710    & 4         & no        & northeast & 19496.719\\\\\n",
       "\t 39        & female    & 26.315    & 2         & no        & northwest &  7201.701\\\\\n",
       "\t 31        & male      & 31.065    & 3         & no        & northwest &  5425.023\\\\\n",
       "\t 62        & male      & 26.695    & 0         & yes       & northeast & 28101.333\\\\\n",
       "\t 62        & male      & 38.830    & 0         & no        & southeast & 12981.346\\\\\n",
       "\t 42        & female    & 40.370    & 2         & yes       & southeast & 43896.376\\\\\n",
       "\t 31        & male      & 25.935    & 1         & no        & northwest &  4239.893\\\\\n",
       "\t 61        & male      & 33.535    & 0         & no        & northeast & 13143.337\\\\\n",
       "\t 42        & female    & 32.870    & 0         & no        & northeast &  7050.021\\\\\n",
       "\t 51        & male      & 30.030    & 1         & no        & southeast &  9377.905\\\\\n",
       "\t 23        & female    & 24.225    & 2         & no        & northeast & 22395.744\\\\\n",
       "\t 52        & male      & 38.600    & 2         & no        & southwest & 10325.206\\\\\n",
       "\t 57        & female    & 25.740    & 2         & no        & southeast & 12629.166\\\\\n",
       "\t 23        & female    & 33.400    & 0         & no        & southwest & 10795.937\\\\\n",
       "\t 52        & female    & 44.700    & 3         & no        & southwest & 11411.685\\\\\n",
       "\t 50        & male      & 30.970    & 3         & no        & northwest & 10600.548\\\\\n",
       "\t 18        & female    & 31.920    & 0         & no        & northeast &  2205.981\\\\\n",
       "\t 18        & female    & 36.850    & 0         & no        & southeast &  1629.833\\\\\n",
       "\t 21        & female    & 25.800    & 0         & no        & southwest &  2007.945\\\\\n",
       "\t 61        & female    & 29.070    & 0         & yes       & northwest & 29141.360\\\\\n",
       "\\end{tabular}\n"
      ],
      "text/markdown": [
       "\n",
       "| age | sex | bmi | children | smoker | region | charges |\n",
       "|---|---|---|---|---|---|---|\n",
       "| 19        | female    | 27.900    | 0         | yes       | southwest | 16884.924 |\n",
       "| 18        | male      | 33.770    | 1         | no        | southeast |  1725.552 |\n",
       "| 28        | male      | 33.000    | 3         | no        | southeast |  4449.462 |\n",
       "| 33        | male      | 22.705    | 0         | no        | northwest | 21984.471 |\n",
       "| 32        | male      | 28.880    | 0         | no        | northwest |  3866.855 |\n",
       "| 31        | female    | 25.740    | 0         | no        | southeast |  3756.622 |\n",
       "| 46        | female    | 33.440    | 1         | no        | southeast |  8240.590 |\n",
       "| 37        | female    | 27.740    | 3         | no        | northwest |  7281.506 |\n",
       "| 37        | male      | 29.830    | 2         | no        | northeast |  6406.411 |\n",
       "| 60        | female    | 25.840    | 0         | no        | northwest | 28923.137 |\n",
       "| 25        | male      | 26.220    | 0         | no        | northeast |  2721.321 |\n",
       "| 62        | female    | 26.290    | 0         | yes       | southeast | 27808.725 |\n",
       "| 23        | male      | 34.400    | 0         | no        | southwest |  1826.843 |\n",
       "| 56        | female    | 39.820    | 0         | no        | southeast | 11090.718 |\n",
       "| 27        | male      | 42.130    | 0         | yes       | southeast | 39611.758 |\n",
       "| 19        | male      | 24.600    | 1         | no        | southwest |  1837.237 |\n",
       "| 52        | female    | 30.780    | 1         | no        | northeast | 10797.336 |\n",
       "| 23        | male      | 23.845    | 0         | no        | northeast |  2395.172 |\n",
       "| 56        | male      | 40.300    | 0         | no        | southwest | 10602.385 |\n",
       "| 30        | male      | 35.300    | 0         | yes       | southwest | 36837.467 |\n",
       "| 60        | female    | 36.005    | 0         | no        | northeast | 13228.847 |\n",
       "| 30        | female    | 32.400    | 1         | no        | southwest |  4149.736 |\n",
       "| 18        | male      | 34.100    | 0         | no        | southeast |  1137.011 |\n",
       "| 34        | female    | 31.920    | 1         | yes       | northeast | 37701.877 |\n",
       "| 37        | male      | 28.025    | 2         | no        | northwest |  6203.902 |\n",
       "| 59        | female    | 27.720    | 3         | no        | southeast | 14001.134 |\n",
       "| 63        | female    | 23.085    | 0         | no        | northeast | 14451.835 |\n",
       "| 55        | female    | 32.775    | 2         | no        | northwest | 12268.632 |\n",
       "| 23        | male      | 17.385    | 1         | no        | northwest |  2775.192 |\n",
       "| 31        | male      | 36.300    | 2         | yes       | southwest | 38711.000 |\n",
       "| ... | ... | ... | ... | ... | ... | ... |\n",
       "| 25        | female    | 30.200    | 0         | yes       | southwest | 33900.653 |\n",
       "| 41        | male      | 32.200    | 2         | no        | southwest |  6875.961 |\n",
       "| 42        | male      | 26.315    | 1         | no        | northwest |  6940.910 |\n",
       "| 33        | female    | 26.695    | 0         | no        | northwest |  4571.413 |\n",
       "| 34        | male      | 42.900    | 1         | no        | southwest |  4536.259 |\n",
       "| 19        | female    | 34.700    | 2         | yes       | southwest | 36397.576 |\n",
       "| 30        | female    | 23.655    | 3         | yes       | northwest | 18765.875 |\n",
       "| 18        | male      | 28.310    | 1         | no        | northeast | 11272.331 |\n",
       "| 19        | female    | 20.600    | 0         | no        | southwest |  1731.677 |\n",
       "| 18        | male      | 53.130    | 0         | no        | southeast |  1163.463 |\n",
       "| 35        | male      | 39.710    | 4         | no        | northeast | 19496.719 |\n",
       "| 39        | female    | 26.315    | 2         | no        | northwest |  7201.701 |\n",
       "| 31        | male      | 31.065    | 3         | no        | northwest |  5425.023 |\n",
       "| 62        | male      | 26.695    | 0         | yes       | northeast | 28101.333 |\n",
       "| 62        | male      | 38.830    | 0         | no        | southeast | 12981.346 |\n",
       "| 42        | female    | 40.370    | 2         | yes       | southeast | 43896.376 |\n",
       "| 31        | male      | 25.935    | 1         | no        | northwest |  4239.893 |\n",
       "| 61        | male      | 33.535    | 0         | no        | northeast | 13143.337 |\n",
       "| 42        | female    | 32.870    | 0         | no        | northeast |  7050.021 |\n",
       "| 51        | male      | 30.030    | 1         | no        | southeast |  9377.905 |\n",
       "| 23        | female    | 24.225    | 2         | no        | northeast | 22395.744 |\n",
       "| 52        | male      | 38.600    | 2         | no        | southwest | 10325.206 |\n",
       "| 57        | female    | 25.740    | 2         | no        | southeast | 12629.166 |\n",
       "| 23        | female    | 33.400    | 0         | no        | southwest | 10795.937 |\n",
       "| 52        | female    | 44.700    | 3         | no        | southwest | 11411.685 |\n",
       "| 50        | male      | 30.970    | 3         | no        | northwest | 10600.548 |\n",
       "| 18        | female    | 31.920    | 0         | no        | northeast |  2205.981 |\n",
       "| 18        | female    | 36.850    | 0         | no        | southeast |  1629.833 |\n",
       "| 21        | female    | 25.800    | 0         | no        | southwest |  2007.945 |\n",
       "| 61        | female    | 29.070    | 0         | yes       | northwest | 29141.360 |\n",
       "\n"
      ],
      "text/plain": [
       "     age sex    bmi    children smoker region    charges  \n",
       "1    19  female 27.900 0        yes    southwest 16884.924\n",
       "2    18  male   33.770 1        no     southeast  1725.552\n",
       "3    28  male   33.000 3        no     southeast  4449.462\n",
       "4    33  male   22.705 0        no     northwest 21984.471\n",
       "5    32  male   28.880 0        no     northwest  3866.855\n",
       "6    31  female 25.740 0        no     southeast  3756.622\n",
       "7    46  female 33.440 1        no     southeast  8240.590\n",
       "8    37  female 27.740 3        no     northwest  7281.506\n",
       "9    37  male   29.830 2        no     northeast  6406.411\n",
       "10   60  female 25.840 0        no     northwest 28923.137\n",
       "11   25  male   26.220 0        no     northeast  2721.321\n",
       "12   62  female 26.290 0        yes    southeast 27808.725\n",
       "13   23  male   34.400 0        no     southwest  1826.843\n",
       "14   56  female 39.820 0        no     southeast 11090.718\n",
       "15   27  male   42.130 0        yes    southeast 39611.758\n",
       "16   19  male   24.600 1        no     southwest  1837.237\n",
       "17   52  female 30.780 1        no     northeast 10797.336\n",
       "18   23  male   23.845 0        no     northeast  2395.172\n",
       "19   56  male   40.300 0        no     southwest 10602.385\n",
       "20   30  male   35.300 0        yes    southwest 36837.467\n",
       "21   60  female 36.005 0        no     northeast 13228.847\n",
       "22   30  female 32.400 1        no     southwest  4149.736\n",
       "23   18  male   34.100 0        no     southeast  1137.011\n",
       "24   34  female 31.920 1        yes    northeast 37701.877\n",
       "25   37  male   28.025 2        no     northwest  6203.902\n",
       "26   59  female 27.720 3        no     southeast 14001.134\n",
       "27   63  female 23.085 0        no     northeast 14451.835\n",
       "28   55  female 32.775 2        no     northwest 12268.632\n",
       "29   23  male   17.385 1        no     northwest  2775.192\n",
       "30   31  male   36.300 2        yes    southwest 38711.000\n",
       "...  ... ...    ...    ...      ...    ...       ...      \n",
       "1309 25  female 30.200 0        yes    southwest 33900.653\n",
       "1310 41  male   32.200 2        no     southwest  6875.961\n",
       "1311 42  male   26.315 1        no     northwest  6940.910\n",
       "1312 33  female 26.695 0        no     northwest  4571.413\n",
       "1313 34  male   42.900 1        no     southwest  4536.259\n",
       "1314 19  female 34.700 2        yes    southwest 36397.576\n",
       "1315 30  female 23.655 3        yes    northwest 18765.875\n",
       "1316 18  male   28.310 1        no     northeast 11272.331\n",
       "1317 19  female 20.600 0        no     southwest  1731.677\n",
       "1318 18  male   53.130 0        no     southeast  1163.463\n",
       "1319 35  male   39.710 4        no     northeast 19496.719\n",
       "1320 39  female 26.315 2        no     northwest  7201.701\n",
       "1321 31  male   31.065 3        no     northwest  5425.023\n",
       "1322 62  male   26.695 0        yes    northeast 28101.333\n",
       "1323 62  male   38.830 0        no     southeast 12981.346\n",
       "1324 42  female 40.370 2        yes    southeast 43896.376\n",
       "1325 31  male   25.935 1        no     northwest  4239.893\n",
       "1326 61  male   33.535 0        no     northeast 13143.337\n",
       "1327 42  female 32.870 0        no     northeast  7050.021\n",
       "1328 51  male   30.030 1        no     southeast  9377.905\n",
       "1329 23  female 24.225 2        no     northeast 22395.744\n",
       "1330 52  male   38.600 2        no     southwest 10325.206\n",
       "1331 57  female 25.740 2        no     southeast 12629.166\n",
       "1332 23  female 33.400 0        no     southwest 10795.937\n",
       "1333 52  female 44.700 3        no     southwest 11411.685\n",
       "1334 50  male   30.970 3        no     northwest 10600.548\n",
       "1335 18  female 31.920 0        no     northeast  2205.981\n",
       "1336 18  female 36.850 0        no     southeast  1629.833\n",
       "1337 21  female 25.800 0        no     southwest  2007.945\n",
       "1338 61  female 29.070 0        yes    northwest 29141.360"
      ]
     },
     "metadata": {},
     "output_type": "display_data"
    },
    {
     "data": {
      "text/html": [
       "1338"
      ],
      "text/latex": [
       "1338"
      ],
      "text/markdown": [
       "1338"
      ],
      "text/plain": [
       "[1] 1338"
      ]
     },
     "metadata": {},
     "output_type": "display_data"
    }
   ],
   "source": [
    "Dane <- read.csv(\"insurance.csv\") # https://www.kaggle.com/mirichoi0218/insurance\n",
    "Dane\n",
    "length(Dane$age)"
   ]
  },
  {
   "cell_type": "markdown",
   "metadata": {},
   "source": [
    "# 1. Opis danych"
   ]
  },
  {
   "cell_type": "markdown",
   "metadata": {},
   "source": [
    "Dane składają się z losowo wybranej próby 1338 osób mających wykupione ubezpieczenie zdrowotne w USA. Dane te pokazują zależność różnych cech pacjenta jak wiek, płeć, BMI, ilość dzieci, czy osoba jest paląca, z jakiego regionu USA pochodzi (możliwe 4 wartości) do kosztu ubezpieczenia zdrowowtnego."
   ]
  },
  {
   "cell_type": "markdown",
   "metadata": {},
   "source": [
    "# 2. Analiza eksploracyjna (ceny ubezpieczeń)"
   ]
  },
  {
   "cell_type": "code",
   "execution_count": 2,
   "metadata": {},
   "outputs": [],
   "source": [
    "attach(Dane)\n",
    "# detach(Dane)"
   ]
  },
  {
   "cell_type": "markdown",
   "metadata": {},
   "source": [
    "### Liczność próby"
   ]
  },
  {
   "cell_type": "code",
   "execution_count": 3,
   "metadata": {},
   "outputs": [
    {
     "data": {
      "text/html": [
       "1338"
      ],
      "text/latex": [
       "1338"
      ],
      "text/markdown": [
       "1338"
      ],
      "text/plain": [
       "[1] 1338"
      ]
     },
     "metadata": {},
     "output_type": "display_data"
    }
   ],
   "source": [
    "n <- length(charges)\n",
    "n"
   ]
  },
  {
   "cell_type": "markdown",
   "metadata": {},
   "source": [
    "### Średnia"
   ]
  },
  {
   "cell_type": "code",
   "execution_count": 4,
   "metadata": {},
   "outputs": [
    {
     "data": {
      "text/html": [
       "13270.4222651413"
      ],
      "text/latex": [
       "13270.4222651413"
      ],
      "text/markdown": [
       "13270.4222651413"
      ],
      "text/plain": [
       "[1] 13270.42"
      ]
     },
     "metadata": {},
     "output_type": "display_data"
    }
   ],
   "source": [
    "avg <- mean(charges)\n",
    "avg"
   ]
  },
  {
   "cell_type": "markdown",
   "metadata": {},
   "source": [
    "### Mediana"
   ]
  },
  {
   "cell_type": "code",
   "execution_count": 5,
   "metadata": {},
   "outputs": [
    {
     "data": {
      "text/html": [
       "9382.033"
      ],
      "text/latex": [
       "9382.033"
      ],
      "text/markdown": [
       "9382.033"
      ],
      "text/plain": [
       "[1] 9382.033"
      ]
     },
     "metadata": {},
     "output_type": "display_data"
    }
   ],
   "source": [
    "med <- median(charges)\n",
    "med"
   ]
  },
  {
   "cell_type": "markdown",
   "metadata": {},
   "source": [
    "### Wartość minimalna"
   ]
  },
  {
   "cell_type": "code",
   "execution_count": 6,
   "metadata": {},
   "outputs": [
    {
     "data": {
      "text/html": [
       "1121.8739"
      ],
      "text/latex": [
       "1121.8739"
      ],
      "text/markdown": [
       "1121.8739"
      ],
      "text/plain": [
       "[1] 1121.874"
      ]
     },
     "metadata": {},
     "output_type": "display_data"
    }
   ],
   "source": [
    "mn <- min(charges)\n",
    "mn"
   ]
  },
  {
   "cell_type": "markdown",
   "metadata": {},
   "source": [
    "### Wartość maksymalna"
   ]
  },
  {
   "cell_type": "code",
   "execution_count": 7,
   "metadata": {},
   "outputs": [
    {
     "data": {
      "text/html": [
       "63770.42801"
      ],
      "text/latex": [
       "63770.42801"
      ],
      "text/markdown": [
       "63770.42801"
      ],
      "text/plain": [
       "[1] 63770.43"
      ]
     },
     "metadata": {},
     "output_type": "display_data"
    }
   ],
   "source": [
    "mx <- max(charges)\n",
    "mx"
   ]
  },
  {
   "cell_type": "markdown",
   "metadata": {},
   "source": [
    "### Wariancja"
   ]
  },
  {
   "cell_type": "code",
   "execution_count": 8,
   "metadata": {},
   "outputs": [
    {
     "data": {
      "text/html": [
       "146652372.152855"
      ],
      "text/latex": [
       "146652372.152855"
      ],
      "text/markdown": [
       "146652372.152855"
      ],
      "text/plain": [
       "[1] 146652372"
      ]
     },
     "metadata": {},
     "output_type": "display_data"
    }
   ],
   "source": [
    "vr <- var(charges)\n",
    "vr"
   ]
  },
  {
   "cell_type": "markdown",
   "metadata": {},
   "source": [
    "### Odchylenie standardowe"
   ]
  },
  {
   "cell_type": "code",
   "execution_count": 9,
   "metadata": {},
   "outputs": [
    {
     "data": {
      "text/html": [
       "12110.011236694"
      ],
      "text/latex": [
       "12110.011236694"
      ],
      "text/markdown": [
       "12110.011236694"
      ],
      "text/plain": [
       "[1] 12110.01"
      ]
     },
     "metadata": {},
     "output_type": "display_data"
    }
   ],
   "source": [
    "std <- sd(charges)\n",
    "std"
   ]
  },
  {
   "cell_type": "markdown",
   "metadata": {},
   "source": [
    "### Skośność"
   ]
  },
  {
   "cell_type": "code",
   "execution_count": 10,
   "metadata": {},
   "outputs": [
    {
     "data": {
      "text/html": [
       "1.51248251819953"
      ],
      "text/latex": [
       "1.51248251819953"
      ],
      "text/markdown": [
       "1.51248251819953"
      ],
      "text/plain": [
       "[1] 1.512483"
      ]
     },
     "metadata": {},
     "output_type": "display_data"
    }
   ],
   "source": [
    "skew <- sum((charges - avg)^3)/(n * std^3)\n",
    "skew"
   ]
  },
  {
   "cell_type": "markdown",
   "metadata": {},
   "source": [
    "### Kurtoza"
   ]
  },
  {
   "cell_type": "code",
   "execution_count": 11,
   "metadata": {},
   "outputs": [
    {
     "data": {
      "text/html": [
       "4.58895424296733"
      ],
      "text/latex": [
       "4.58895424296733"
      ],
      "text/markdown": [
       "4.58895424296733"
      ],
      "text/plain": [
       "[1] 4.588954"
      ]
     },
     "metadata": {},
     "output_type": "display_data"
    }
   ],
   "source": [
    "kurt <- sum((charges - avg)^4)/(n * vr^2)\n",
    "kurt"
   ]
  },
  {
   "cell_type": "markdown",
   "metadata": {},
   "source": [
    "## Szerg rozdzielczy"
   ]
  },
  {
   "cell_type": "code",
   "execution_count": 12,
   "metadata": {},
   "outputs": [
    {
     "data": {
      "text/html": [
       "11899.625365"
      ],
      "text/latex": [
       "11899.625365"
      ],
      "text/markdown": [
       "11899.625365"
      ],
      "text/plain": [
       "[1] 11899.63"
      ]
     },
     "metadata": {},
     "output_type": "display_data"
    }
   ],
   "source": [
    "IQR(charges)\n",
    "# quan <- quantile(charges, 3/4)\n",
    "# quantile(charges, 3/4) - quantile(charges, 1/4)"
   ]
  },
  {
   "cell_type": "code",
   "execution_count": 13,
   "metadata": {},
   "outputs": [
    {
     "ename": "ERROR",
     "evalue": "Error in parse(text = x, srcfile = src): <text>:4:0: unexpected end of input\n2: szereg_roz <- cut(charges, breaks = sqrt(length(charges)))\n3: paste(szereg_roz\n  ^\n",
     "output_type": "error",
     "traceback": [
      "Error in parse(text = x, srcfile = src): <text>:4:0: unexpected end of input\n2: szereg_roz <- cut(charges, breaks = sqrt(length(charges)))\n3: paste(szereg_roz\n  ^\nTraceback:\n"
     ]
    }
   ],
   "source": [
    "num_of_breaks <- round(sqrt(n))\n",
    "szereg_roz <- cut(charges, breaks = sqrt(length(charges)))\n",
    "paste(szereg_roz"
   ]
  },
  {
   "cell_type": "markdown",
   "metadata": {},
   "source": [
    "## Histogram"
   ]
  },
  {
   "cell_type": "code",
   "execution_count": 14,
   "metadata": {},
   "outputs": [],
   "source": [
    "create_hist <- function (dane, k=1) {\n",
    "    len_of_breaks <- 2.64 * IQR(dane) * n^(-1/3) * k\n",
    "    num_of_breaks <- round((max(dane) - min(dane))/len_of_breaks)\n",
    "    hist(dane, col='#4ea4cc',breaks=num_of_breaks, main = paste(\"Charges, asked breaks:\",num_of_breaks))\n",
    "}"
   ]
  },
  {
   "cell_type": "code",
   "execution_count": 15,
   "metadata": {},
   "outputs": [
    {
     "data": {
      "image/png": "[encoded data removed]",
      "text/plain": [
       "Plot with title \"Charges, asked breaks: 24\""
      ]
     },
     "metadata": {},
     "output_type": "display_data"
    }
   ],
   "source": [
    "prev <- par(mfrow=c(1,2))\n",
    "create_hist(charges, 1)\n",
    "create_hist(charges, 0.9)\n",
    "par(prev)"
   ]
  },
  {
   "cell_type": "markdown",
   "metadata": {},
   "source": [
    "Do obliczenia długości przedziałów zastosowałem wzór $h = 2.64 * IQR * n^{-1/3}$. Na podstawie długości tych przedziałów został zbudowany histogram. Wydał mi się on jednak dosyć ogólny, dlatego zmniejszając długość przedziałów do 90% z h udało mi się uzyskać bardziej szczegółowy histogram. <br> Histogram po lewo jest bardziej ogólny, jednak i tak dobrze odzwierciedla główne mody lokalne na 2/3 oraz 36/37 tysiącach dolarów. Na prawym histogrami natomiast możemy bardziej szczegółowo przyjrzeć się danym i można dostrzec dodatkowe mody np. na 20 tys, oraz znaczny spadek liczby osób płacącynajniższe składki poniżej 2 tys dolarów. Uważam, że oba te wykresy znajdą swoje zastosowania."
   ]
  },
  {
   "cell_type": "markdown",
   "metadata": {},
   "source": [
    "## Koszt ubezpieczenia, w zależności od BMI"
   ]
  },
  {
   "cell_type": "code",
   "execution_count": 16,
   "metadata": {},
   "outputs": [
    {
     "data": {
      "image/png": "[encoded data removed]",
      "text/plain": [
       "plot without title"
      ]
     },
     "metadata": {},
     "output_type": "display_data"
    }
   ],
   "source": [
    "plot(charges ~ bmi)"
   ]
  },
  {
   "cell_type": "markdown",
   "metadata": {},
   "source": [
    "Z wykresu można dostrzec pewną zależność, że osoby które mają BMI<30 płacą mniej niż osoby mające ten wskaźnik niższy. Należy jednak sprawdzić wskaźniki korelacji i regresji by wykazać zależność. "
   ]
  },
  {
   "cell_type": "markdown",
   "metadata": {},
   "source": [
    "### Wpółczynnik korelacji"
   ]
  },
  {
   "cell_type": "code",
   "execution_count": 17,
   "metadata": {},
   "outputs": [
    {
     "data": {
      "text/plain": [
       "\n",
       "\tPearson's product-moment correlation\n",
       "\n",
       "data:  charges and bmi\n",
       "t = 7.3966, df = 1336, p-value = 2.459e-13\n",
       "alternative hypothesis: true correlation is not equal to 0\n",
       "95 percent confidence interval:\n",
       " 0.1463052 0.2492822\n",
       "sample estimates:\n",
       "     cor \n",
       "0.198341 \n"
      ]
     },
     "metadata": {},
     "output_type": "display_data"
    }
   ],
   "source": [
    "cor.test(charges,bmi)"
   ]
  },
  {
   "cell_type": "markdown",
   "metadata": {},
   "source": [
    "P-value dla testu t dla współczynnika korelacjila każdego sensowengo poziomu istotności(0.05,0.01,0.001...) odrzuciłby hipotezę zerową, zakładającą brak zależności między zmiennymi."
   ]
  },
  {
   "cell_type": "code",
   "execution_count": 18,
   "metadata": {},
   "outputs": [
    {
     "data": {
      "text/html": [
       "0.198340968833629"
      ],
      "text/latex": [
       "0.198340968833629"
      ],
      "text/markdown": [
       "0.198340968833629"
      ],
      "text/plain": [
       "[1] 0.198341"
      ]
     },
     "metadata": {},
     "output_type": "display_data"
    }
   ],
   "source": [
    "cor(charges, bmi)"
   ]
  },
  {
   "cell_type": "markdown",
   "metadata": {},
   "source": [
    "Współczynnik korelacji przyjmuje zbyt małą wartość, by można jasno wskazać, że taka zależność ma znaczącą wartość. Tym bardzij budowanie modelu regresji nie ma sensu."
   ]
  },
  {
   "cell_type": "markdown",
   "metadata": {},
   "source": [
    "# Koszt ubezpieczenia w zależności od faktu palenia papierów"
   ]
  },
  {
   "cell_type": "code",
   "execution_count": 19,
   "metadata": {},
   "outputs": [
    {
     "data": {
      "text/html": [
       "<span style=white-space:pre-wrap>'Smoker: median =  34456.34845 , standard deviation =  11541.5471755891'</span>"
      ],
      "text/latex": [
       "'Smoker: median =  34456.34845 , standard deviation =  11541.5471755891'"
      ],
      "text/markdown": [
       "<span style=white-space:pre-wrap>'Smoker: median =  34456.34845 , standard deviation =  11541.5471755891'</span>"
      ],
      "text/plain": [
       "[1] \"Smoker: median =  34456.34845 , standard deviation =  11541.5471755891\""
      ]
     },
     "metadata": {},
     "output_type": "display_data"
    },
    {
     "data": {
      "text/html": [
       "<span style=white-space:pre-wrap>'No smoker: median =  7345.4053 , standard deviation =  5993.78181919493'</span>"
      ],
      "text/latex": [
       "'No smoker: median =  7345.4053 , standard deviation =  5993.78181919493'"
      ],
      "text/markdown": [
       "<span style=white-space:pre-wrap>'No smoker: median =  7345.4053 , standard deviation =  5993.78181919493'</span>"
      ],
      "text/plain": [
       "[1] \"No smoker: median =  7345.4053 , standard deviation =  5993.78181919493\""
      ]
     },
     "metadata": {},
     "output_type": "display_data"
    },
    {
     "data": {
      "image/png": "[encoded data removed]",
      "text/plain": [
       "plot without title"
      ]
     },
     "metadata": {},
     "output_type": "display_data"
    }
   ],
   "source": [
    "plot(charges ~ smoker)\n",
    "name <- c('Smoker', 'No smoker')\n",
    "med <- c(median(charges[smoker == 'yes']), median(charges[smoker == 'no']))\n",
    "paste('Smoker: median = ', median(charges[smoker == 'yes']), ', standard deviation = ', sd(charges[smoker == 'yes']))\n",
    "paste('No smoker: median = ', median(charges[smoker == 'no']), ', standard deviation = ', sd(charges[smoker == 'no']))"
   ]
  },
  {
   "cell_type": "markdown",
   "metadata": {},
   "source": [
    "Tutaj zdecydownie można dostrzec trend, że ludzie palący płacą za ubezpieczenie zdrowotne znacznie więcej."
   ]
  },
  {
   "cell_type": "markdown",
   "metadata": {},
   "source": [
    "# 3. Testy"
   ]
  },
  {
   "cell_type": "markdown",
   "metadata": {},
   "source": [
    "## Średnia koszt ubezpieczenia (test dla jednej populacji)"
   ]
  },
  {
   "cell_type": "markdown",
   "metadata": {},
   "source": [
    "Wykonajmy test dla średniej wartości opłaty w populacji. Jako, że próba jest duża (>1000) to żeby móc sprawidzić więcej rzeczy i uczynić testy ciekawszymi uznajmy, że nasza próba jest populacją z której będziemy wybierać losowo próby."
   ]
  },
  {
   "cell_type": "markdown",
   "metadata": {},
   "source": [
    "### Centralne Twierdzenie Graniczne"
   ]
  },
  {
   "cell_type": "code",
   "execution_count": 20,
   "metadata": {},
   "outputs": [
    {
     "data": {
      "image/png": "[encoded data removed]",
      "text/plain": [
       "Plot with title \"Charges, asked breaks: 24\""
      ]
     },
     "metadata": {},
     "output_type": "display_data"
    }
   ],
   "source": [
    "create_hist(charges, k=0.9)"
   ]
  },
  {
   "cell_type": "markdown",
   "metadata": {},
   "source": [
    "Z histogramu, który pozwoliłem sobie pokazać jescze raz, wyraźnie widać, że rozkład \"populacji\" jest mocno dodatnie skośny. Sprawdźmy dla jakiej próby można uznać, że mamy do czynienia z rozkładem normalnym dla wartości średniej."
   ]
  },
  {
   "cell_type": "code",
   "execution_count": 21,
   "metadata": {},
   "outputs": [],
   "source": [
    "clt_plot <- function(samp_size, data, k=25) {\n",
    "    my_mean <- c()\n",
    "    for (var in 1:2000)\n",
    "        {\n",
    "        my_sample <- data[sample.int(n,samp_size, replace = TRUE)]\n",
    "        my_mean <- c(mean(my_sample),my_mean)\n",
    "    }\n",
    "    hist(my_mean, col='#4ea4cc',breaks=k, main = paste(\"Rozmiar próbki: \",samp_size), xlab = \"Koszt ubezpieczenia\", ylab = \"Częstość występowania\")\n",
    "}"
   ]
  },
  {
   "cell_type": "code",
   "execution_count": 25,
   "metadata": {},
   "outputs": [
    {
     "data": {
      "image/png": "[encoded data removed]",
      "text/plain": [
       "Plot with title \"Rozmiar próbki:  320\""
      ]
     },
     "metadata": {},
     "output_type": "display_data"
    }
   ],
   "source": [
    "sample_size <- c(3,5,10,20,30,40,80,160,320)\n",
    "prev <- par(mfrow=c(3,3))\n",
    "num_of_breaks <- 25\n",
    "for (i in 1:9){\n",
    "    clt_plot(sample_size[i], charges, num_of_breaks)\n",
    "    abline(v=mean(charges))\n",
    "}\n",
    "par(prev)"
   ]
  },
  {
   "cell_type": "markdown",
   "metadata": {},
   "source": [
    "Zostało przedstawionych 9 histogramów dla prób o różnych wielkościach. Pionowa linia oznacza średnią arytmetyczną. <br>\n",
    "Histogramy dla próbki o rozmiarach 3 i 5 na pierwszy rzut oka nie przypominają rozkładu normalnego. Co oznacza, że dla tak małych próbek nie możemy zastosować testu Z. Nie moglibyśmy również zastosować testu T ponieważ rozkład populacji nie jest normalny. <br>\n",
    "Dla próbek o rozmiarze 10 i 20 rozkład coraz mocniej przypomina normalny, wciaż można zauważyć jednak pewną skośność. Widzimy, że punkt o największej częstotliwości znajduje się po lewo od średniej. <br>\n",
    "Od próbek o rozmiarze 30 rozkład jest już bardzo podobny do rozkładu normalnego, dlatego ten punkt (30) wyznaczył bym jako granicę od której można uznać, że rozkład średniej jest normalny. "
   ]
  },
  {
   "cell_type": "markdown",
   "metadata": {},
   "source": [
    "# Test Z i T dla jednej populacji"
   ]
  },
  {
   "cell_type": "markdown",
   "metadata": {},
   "source": [
    "Z powyższego rozumowania wynika ustaliłem minimalną próbkę jaką powinienem pobrać jako 30. Dla większej precyzji zwiększam jednak próbkę do 35."
   ]
  },
  {
   "cell_type": "markdown",
   "metadata": {},
   "source": []
  },
  {
   "cell_type": "markdown",
   "metadata": {},
   "source": [
    "Srawdźmy, przy pomocy testu Z (skoro założona duża próba moich danych jest populacją to znamy jej wariancję!) czy średnia wartość opłaty za ubezpieczenie zdrowotne równa się 13000\\\\$.\n",
    "<br> H0: $\\mu = 13000$, <br> H1: $\\mu \\neq 13000$ <br> $\\alpha = 0.05$"
   ]
  },
  {
   "cell_type": "code",
   "execution_count": 78,
   "metadata": {},
   "outputs": [
    {
     "data": {
      "text/html": [
       "13706.8424834286"
      ],
      "text/latex": [
       "13706.8424834286"
      ],
      "text/markdown": [
       "13706.8424834286"
      ],
      "text/plain": [
       "[1] 13706.84"
      ]
     },
     "metadata": {},
     "output_type": "display_data"
    },
    {
     "data": {
      "text/html": [
       "0.364929778836299"
      ],
      "text/latex": [
       "0.364929778836299"
      ],
      "text/markdown": [
       "0.364929778836299"
      ],
      "text/plain": [
       "[1] 0.3649298"
      ]
     },
     "metadata": {},
     "output_type": "display_data"
    }
   ],
   "source": [
    "my_sample <- charges[c(1255,734,617,746,618,680,158,528,1217,1210,382,630,909,439,500,572,267,378,547,525,681,22,1189,904,1332, 1323, 409, 773, 219, 677, 177, 191, 922, 309, 714)]\n",
    "x_mean <- mean(my_sample)\n",
    "Z <- (x_mean-13000)*sqrt(35)/(std)\n",
    "\n",
    "1-pnorm(Z)\n",
    "# sample_size <- 35\n",
    "# sample.int(n,35, replace = TRUE)"
   ]
  },
  {
   "cell_type": "code",
   "execution_count": null,
   "metadata": {},
   "outputs": [],
   "source": []
  },
  {
   "cell_type": "code",
   "execution_count": 79,
   "metadata": {},
   "outputs": [
    {
     "data": {
      "text/html": [
       "0.366025526924775"
      ],
      "text/latex": [
       "0.366025526924775"
      ],
      "text/markdown": [
       "0.366025526924775"
      ],
      "text/plain": [
       "[1] 0.3660255"
      ]
     },
     "metadata": {},
     "output_type": "display_data"
    }
   ],
   "source": [
    "my_sample <- charges[c(1255,734,617,746,618,680,158,528,1217,1210,382,630,909,439,500,572,267,378,547,525,681,22,1189,904,1332, 1323, 409, 773, 219, 677, 177, 191, 922, 309, 714)]\n",
    "x_mean <- mean(my_sample)\n",
    "T <- (x_mean-13200)*sqrt(35)/(sd(my_sample))\n",
    "1-pt(Z, df = 35 - 2)"
   ]
  },
  {
   "cell_type": "markdown",
   "metadata": {},
   "source": [
    "## Czy osoby z wyższym BMI płacą więcej? (test dla dwóch populacji)"
   ]
  },
  {
   "cell_type": "markdown",
   "metadata": {},
   "source": [
    "Przetestujmy czy rzeczywiście osoby palące płacą więcej niż nie palące"
   ]
  },
  {
   "cell_type": "markdown",
   "metadata": {},
   "source": [
    "## Czy mężczyźni palą częściej niż kobiety (test Z dla dwóch populacji)"
   ]
  },
  {
   "cell_type": "markdown",
   "metadata": {},
   "source": [
    "Uważa się, że mężczyźni średnio częściej są palaczami niż kobiety. Sprawdźmy to używając testu Z. <br> Przeprowadźmy test jednostronny: <br> H0: $\\mu_{mężczyzn} = \\mu_{kobiet}$, <br> H1: $\\mu_{mężczyzn} > \\mu_{kobiet}$ <br> $\\alpha = 0.01$"
   ]
  },
  {
   "cell_type": "markdown",
   "metadata": {},
   "source": [
    "### Liczba kobiet i mężczyzn próbie"
   ]
  },
  {
   "cell_type": "code",
   "execution_count": 59,
   "metadata": {},
   "outputs": [
    {
     "data": {
      "text/html": [
       "<span style=white-space:pre-wrap>'Liczba kobiet:  662'</span>"
      ],
      "text/latex": [
       "'Liczba kobiet:  662'"
      ],
      "text/markdown": [
       "<span style=white-space:pre-wrap>'Liczba kobiet:  662'</span>"
      ],
      "text/plain": [
       "[1] \"Liczba kobiet:  662\""
      ]
     },
     "metadata": {},
     "output_type": "display_data"
    },
    {
     "data": {
      "text/html": [
       "<span style=white-space:pre-wrap>'Liczba mezczyzn:  676'</span>"
      ],
      "text/latex": [
       "'Liczba mezczyzn:  676'"
      ],
      "text/markdown": [
       "<span style=white-space:pre-wrap>'Liczba mezczyzn:  676'</span>"
      ],
      "text/plain": [
       "[1] \"Liczba mezczyzn:  676\""
      ]
     },
     "metadata": {},
     "output_type": "display_data"
    }
   ],
   "source": [
    "n_female <- length(Dane[Dane$sex == 'female', ]$smoker)\n",
    "n_male <- length(Dane[Dane$sex == 'male', ]$smoker)\n",
    "paste('Liczba kobiet: ', n_female)\n",
    "paste(\"Liczba mężczyzn: \", n_male)"
   ]
  },
  {
   "cell_type": "markdown",
   "metadata": {},
   "source": [
    "Widzimy, że próba jest duża, dlatego dzięki znajomości CLT wiemy, że test Z będzie odpowiedni do przeprowadzenia tego testu"
   ]
  },
  {
   "cell_type": "markdown",
   "metadata": {},
   "source": [
    "### Liczba kobiet i mężczyzn palących"
   ]
  },
  {
   "cell_type": "code",
   "execution_count": 60,
   "metadata": {},
   "outputs": [
    {
     "data": {
      "text/html": [
       "<span style=white-space:pre-wrap>'Liczba palacych kobiet:  115'</span>"
      ],
      "text/latex": [
       "'Liczba palacych kobiet:  115'"
      ],
      "text/markdown": [
       "<span style=white-space:pre-wrap>'Liczba palacych kobiet:  115'</span>"
      ],
      "text/plain": [
       "[1] \"Liczba palacych kobiet:  115\""
      ]
     },
     "metadata": {},
     "output_type": "display_data"
    },
    {
     "data": {
      "text/html": [
       "<span style=white-space:pre-wrap>'Liczba palacych kobiet:  159'</span>"
      ],
      "text/latex": [
       "'Liczba palacych kobiet:  159'"
      ],
      "text/markdown": [
       "<span style=white-space:pre-wrap>'Liczba palacych kobiet:  159'</span>"
      ],
      "text/plain": [
       "[1] \"Liczba palacych kobiet:  159\""
      ]
     },
     "metadata": {},
     "output_type": "display_data"
    }
   ],
   "source": [
    "smoker_female <- length(Dane[Dane$smoker == 'yes' & Dane$sex == 'female',]$smoker)\n",
    "smoker_male <- length(Dane[Dane$smoker == 'yes' & Dane$sex == 'male',]$smoker)\n",
    "paste('Liczba palących kobiet: ', smoker_female)\n",
    "paste('Liczba palących kobiet: ', smoker_male)"
   ]
  },
  {
   "cell_type": "markdown",
   "metadata": {},
   "source": [
    "### Prawdopodobieństwo że osoba danej płci pali"
   ]
  },
  {
   "cell_type": "code",
   "execution_count": 62,
   "metadata": {},
   "outputs": [
    {
     "data": {
      "text/html": [
       "<span style=white-space:pre-wrap>'Kobiety:  0.173716012084592'</span>"
      ],
      "text/latex": [
       "'Kobiety:  0.173716012084592'"
      ],
      "text/markdown": [
       "<span style=white-space:pre-wrap>'Kobiety:  0.173716012084592'</span>"
      ],
      "text/plain": [
       "[1] \"Kobiety:  0.173716012084592\""
      ]
     },
     "metadata": {},
     "output_type": "display_data"
    },
    {
     "data": {
      "text/html": [
       "<span style=white-space:pre-wrap>'Mezczyzni:  0.235207100591716'</span>"
      ],
      "text/latex": [
       "'Mezczyzni:  0.235207100591716'"
      ],
      "text/markdown": [
       "<span style=white-space:pre-wrap>'Mezczyzni:  0.235207100591716'</span>"
      ],
      "text/plain": [
       "[1] \"Mezczyzni:  0.235207100591716\""
      ]
     },
     "metadata": {},
     "output_type": "display_data"
    }
   ],
   "source": [
    "Ex_female <- smoker_female/n_female\n",
    "Ex_male <- smoker_male/n_male\n",
    "paste('Kobiety: ', Ex_female)\n",
    "paste('Mężczyźni: ', Ex_male)"
   ]
  },
  {
   "cell_type": "markdown",
   "metadata": {},
   "source": [
    "### Łączne odchylenie standardowe"
   ]
  },
  {
   "cell_type": "code",
   "execution_count": 63,
   "metadata": {},
   "outputs": [
    {
     "data": {
      "text/html": [
       "<span style=white-space:pre-wrap>'Wartosc odchylenia:  0.021975613250088'</span>"
      ],
      "text/latex": [
       "'Wartosc odchylenia:  0.021975613250088'"
      ],
      "text/markdown": [
       "<span style=white-space:pre-wrap>'Wartosc odchylenia:  0.021975613250088'</span>"
      ],
      "text/plain": [
       "[1] \"Wartosc odchylenia:  0.021975613250088\""
      ]
     },
     "metadata": {},
     "output_type": "display_data"
    }
   ],
   "source": [
    "VarF <- Ex_female*(1-Ex_female)/n_female\n",
    "VarM <- Ex_male*(1-Ex_male)/n_male\n",
    "Std <- sqrt(VarF + VarM)\n",
    "paste('Wartość odchylenia: ',Std)"
   ]
  },
  {
   "cell_type": "markdown",
   "metadata": {},
   "source": [
    "### Wartość statystyki Z i p-value"
   ]
  },
  {
   "cell_type": "code",
   "execution_count": 68,
   "metadata": {},
   "outputs": [
    {
     "data": {
      "text/html": [
       "<span style=white-space:pre-wrap>'Wartosc statystyki Z:  2.79815119638937'</span>"
      ],
      "text/latex": [
       "'Wartosc statystyki Z:  2.79815119638937'"
      ],
      "text/markdown": [
       "<span style=white-space:pre-wrap>'Wartosc statystyki Z:  2.79815119638937'</span>"
      ],
      "text/plain": [
       "[1] \"Wartosc statystyki Z:  2.79815119638937\""
      ]
     },
     "metadata": {},
     "output_type": "display_data"
    },
    {
     "data": {
      "text/html": [
       "'P-value: 0.00256980238081761'"
      ],
      "text/latex": [
       "'P-value: 0.00256980238081761'"
      ],
      "text/markdown": [
       "'P-value: 0.00256980238081761'"
      ],
      "text/plain": [
       "[1] \"P-value: 0.00256980238081761\""
      ]
     },
     "metadata": {},
     "output_type": "display_data"
    }
   ],
   "source": [
    "Z <- (Ex_male - Ex_female)/Std\n",
    "paste('Wartość statystyki Z: ', Z)\n",
    "paste('P-value:' ,1 - pnorm(Z))"
   ]
  },
  {
   "cell_type": "markdown",
   "metadata": {},
   "source": [
    "### Wnioski"
   ]
  },
  {
   "cell_type": "markdown",
   "metadata": {},
   "source": [
    "Otrzymana wartość p-value pozwala odrzucić H0. Test przeprowadzony na tej próbie wykazuje, że więcej mężczyzn pali papierosy niż kobiety."
   ]
  },
  {
   "cell_type": "code",
   "execution_count": null,
   "metadata": {},
   "outputs": [],
   "source": []
  }
 ],
 "metadata": {
  "kernelspec": {
   "display_name": "R",
   "language": "R",
   "name": "ir"
  },
  "language_info": {
   "codemirror_mode": "r",
   "file_extension": ".r",
   "mimetype": "text/x-r-source",
   "name": "R",
   "pygments_lexer": "r",
   "version": "3.6.1"
  }
 },
 "nbformat": 4,
 "nbformat_minor": 4
}
